{
 "cells": [
  {
   "cell_type": "markdown",
   "metadata": {},
   "source": [
    "# ⚽ Clustering Moroccan Football Players with Similar Skillset using K-Means 🇲🇦"
   ]
  },
  {
   "cell_type": "markdown",
   "metadata": {},
   "source": [
    "### 🎯 About the Project\n",
    "\n",
    "In this project, the primary objective is to address the challenge of categorizing Moroccan football players based on their skillsets. The project begins by defining the problem statement, which involves clustering players into five distinct categories: goalkeepers, defenders, offensive midfielders, defensive midfielders, and strikers. To accomplish this task, the K-Means clustering algorithm is employed, and the report elaborates on the inner workings of this algorithm. It also provides insights into the FIFA 22 dataset, emphasizing data exploration, analysis, and visualization to gain a comprehensive understanding of the player attributes. The subsequent sections of the project encompass the development of the K-Means clustering algorithm through pseudocode and code implementation, followed by visual representation of the clusters generated. Additionally, the project assesses the performance of the developed algorithm by comparing it to the scikit-learn implementation, thereby offering a comprehensive approach to player clustering based on skillsets."
   ]
  },
  {
   "cell_type": "markdown",
   "metadata": {},
   "source": [
    "### I. Importing libraries 🔌"
   ]
  },
  {
   "cell_type": "code",
   "execution_count": 892,
   "metadata": {},
   "outputs": [],
   "source": [
    "# Data analysis and wrangling\n",
    "import pandas as pd\n",
    "import numpy as np\n",
    "import random as rnd\n",
    "import json\n",
    "\n",
    "# Visualization\n",
    "import matplotlib.pyplot as plt\n",
    "import plotly.graph_objects as go\n",
    "import plotly.express as px\n",
    "import seaborn as sns\n",
    "%matplotlib inline\n",
    "\n",
    "# Pre processing\n",
    "from sklearn import preprocessing\n",
    "\n",
    "# Machine Learning\n",
    "from sklearn.decomposition import PCA\n",
    "from sklearn.cluster import KMeans\n",
    "\n",
    "from pylab import rcParams\n",
    "rcParams['figure.figsize'] = 15, 10"
   ]
  },
  {
   "cell_type": "markdown",
   "metadata": {},
   "source": [
    "### II. Importing the dataset 💿"
   ]
  },
  {
   "cell_type": "code",
   "execution_count": 893,
   "metadata": {},
   "outputs": [
    {
     "data": {
      "text/html": [
       "<div>\n",
       "<style scoped>\n",
       "    .dataframe tbody tr th:only-of-type {\n",
       "        vertical-align: middle;\n",
       "    }\n",
       "\n",
       "    .dataframe tbody tr th {\n",
       "        vertical-align: top;\n",
       "    }\n",
       "\n",
       "    .dataframe thead th {\n",
       "        text-align: right;\n",
       "    }\n",
       "</style>\n",
       "<table border=\"1\" class=\"dataframe\">\n",
       "  <thead>\n",
       "    <tr style=\"text-align: right;\">\n",
       "      <th></th>\n",
       "      <th>sofifa_id</th>\n",
       "      <th>player_url</th>\n",
       "      <th>short_name</th>\n",
       "      <th>long_name</th>\n",
       "      <th>player_positions</th>\n",
       "      <th>overall</th>\n",
       "      <th>potential</th>\n",
       "      <th>value_eur</th>\n",
       "      <th>wage_eur</th>\n",
       "      <th>age</th>\n",
       "      <th>...</th>\n",
       "      <th>lcb</th>\n",
       "      <th>cb</th>\n",
       "      <th>rcb</th>\n",
       "      <th>rb</th>\n",
       "      <th>gk</th>\n",
       "      <th>player_face_url</th>\n",
       "      <th>club_logo_url</th>\n",
       "      <th>club_flag_url</th>\n",
       "      <th>nation_logo_url</th>\n",
       "      <th>nation_flag_url</th>\n",
       "    </tr>\n",
       "  </thead>\n",
       "  <tbody>\n",
       "    <tr>\n",
       "      <th>0</th>\n",
       "      <td>158023</td>\n",
       "      <td>https://sofifa.com/player/158023/lionel-messi/...</td>\n",
       "      <td>L. Messi</td>\n",
       "      <td>Lionel Andrés Messi Cuccittini</td>\n",
       "      <td>RW, ST, CF</td>\n",
       "      <td>93</td>\n",
       "      <td>93</td>\n",
       "      <td>78000000.0</td>\n",
       "      <td>320000.0</td>\n",
       "      <td>34</td>\n",
       "      <td>...</td>\n",
       "      <td>50+3</td>\n",
       "      <td>50+3</td>\n",
       "      <td>50+3</td>\n",
       "      <td>61+3</td>\n",
       "      <td>19+3</td>\n",
       "      <td>https://cdn.sofifa.net/players/158/023/22_120.png</td>\n",
       "      <td>https://cdn.sofifa.net/teams/73/60.png</td>\n",
       "      <td>https://cdn.sofifa.net/flags/fr.png</td>\n",
       "      <td>https://cdn.sofifa.net/teams/1369/60.png</td>\n",
       "      <td>https://cdn.sofifa.net/flags/ar.png</td>\n",
       "    </tr>\n",
       "    <tr>\n",
       "      <th>1</th>\n",
       "      <td>188545</td>\n",
       "      <td>https://sofifa.com/player/188545/robert-lewand...</td>\n",
       "      <td>R. Lewandowski</td>\n",
       "      <td>Robert Lewandowski</td>\n",
       "      <td>ST</td>\n",
       "      <td>92</td>\n",
       "      <td>92</td>\n",
       "      <td>119500000.0</td>\n",
       "      <td>270000.0</td>\n",
       "      <td>32</td>\n",
       "      <td>...</td>\n",
       "      <td>60+3</td>\n",
       "      <td>60+3</td>\n",
       "      <td>60+3</td>\n",
       "      <td>61+3</td>\n",
       "      <td>19+3</td>\n",
       "      <td>https://cdn.sofifa.net/players/188/545/22_120.png</td>\n",
       "      <td>https://cdn.sofifa.net/teams/21/60.png</td>\n",
       "      <td>https://cdn.sofifa.net/flags/de.png</td>\n",
       "      <td>https://cdn.sofifa.net/teams/1353/60.png</td>\n",
       "      <td>https://cdn.sofifa.net/flags/pl.png</td>\n",
       "    </tr>\n",
       "    <tr>\n",
       "      <th>2</th>\n",
       "      <td>20801</td>\n",
       "      <td>https://sofifa.com/player/20801/c-ronaldo-dos-...</td>\n",
       "      <td>Cristiano Ronaldo</td>\n",
       "      <td>Cristiano Ronaldo dos Santos Aveiro</td>\n",
       "      <td>ST, LW</td>\n",
       "      <td>91</td>\n",
       "      <td>91</td>\n",
       "      <td>45000000.0</td>\n",
       "      <td>270000.0</td>\n",
       "      <td>36</td>\n",
       "      <td>...</td>\n",
       "      <td>53+3</td>\n",
       "      <td>53+3</td>\n",
       "      <td>53+3</td>\n",
       "      <td>60+3</td>\n",
       "      <td>20+3</td>\n",
       "      <td>https://cdn.sofifa.net/players/020/801/22_120.png</td>\n",
       "      <td>https://cdn.sofifa.net/teams/11/60.png</td>\n",
       "      <td>https://cdn.sofifa.net/flags/gb-eng.png</td>\n",
       "      <td>https://cdn.sofifa.net/teams/1354/60.png</td>\n",
       "      <td>https://cdn.sofifa.net/flags/pt.png</td>\n",
       "    </tr>\n",
       "  </tbody>\n",
       "</table>\n",
       "<p>3 rows × 110 columns</p>\n",
       "</div>"
      ],
      "text/plain": [
       "   sofifa_id                                         player_url  \\\n",
       "0     158023  https://sofifa.com/player/158023/lionel-messi/...   \n",
       "1     188545  https://sofifa.com/player/188545/robert-lewand...   \n",
       "2      20801  https://sofifa.com/player/20801/c-ronaldo-dos-...   \n",
       "\n",
       "          short_name                            long_name player_positions  \\\n",
       "0           L. Messi       Lionel Andrés Messi Cuccittini       RW, ST, CF   \n",
       "1     R. Lewandowski                   Robert Lewandowski               ST   \n",
       "2  Cristiano Ronaldo  Cristiano Ronaldo dos Santos Aveiro           ST, LW   \n",
       "\n",
       "   overall  potential    value_eur  wage_eur  age  ...   lcb    cb   rcb  \\\n",
       "0       93         93   78000000.0  320000.0   34  ...  50+3  50+3  50+3   \n",
       "1       92         92  119500000.0  270000.0   32  ...  60+3  60+3  60+3   \n",
       "2       91         91   45000000.0  270000.0   36  ...  53+3  53+3  53+3   \n",
       "\n",
       "     rb    gk                                    player_face_url  \\\n",
       "0  61+3  19+3  https://cdn.sofifa.net/players/158/023/22_120.png   \n",
       "1  61+3  19+3  https://cdn.sofifa.net/players/188/545/22_120.png   \n",
       "2  60+3  20+3  https://cdn.sofifa.net/players/020/801/22_120.png   \n",
       "\n",
       "                            club_logo_url  \\\n",
       "0  https://cdn.sofifa.net/teams/73/60.png   \n",
       "1  https://cdn.sofifa.net/teams/21/60.png   \n",
       "2  https://cdn.sofifa.net/teams/11/60.png   \n",
       "\n",
       "                             club_flag_url  \\\n",
       "0      https://cdn.sofifa.net/flags/fr.png   \n",
       "1      https://cdn.sofifa.net/flags/de.png   \n",
       "2  https://cdn.sofifa.net/flags/gb-eng.png   \n",
       "\n",
       "                            nation_logo_url  \\\n",
       "0  https://cdn.sofifa.net/teams/1369/60.png   \n",
       "1  https://cdn.sofifa.net/teams/1353/60.png   \n",
       "2  https://cdn.sofifa.net/teams/1354/60.png   \n",
       "\n",
       "                       nation_flag_url  \n",
       "0  https://cdn.sofifa.net/flags/ar.png  \n",
       "1  https://cdn.sofifa.net/flags/pl.png  \n",
       "2  https://cdn.sofifa.net/flags/pt.png  \n",
       "\n",
       "[3 rows x 110 columns]"
      ]
     },
     "execution_count": 893,
     "metadata": {},
     "output_type": "execute_result"
    }
   ],
   "source": [
    "df = pd.read_csv(\"../data/players_22.csv\", low_memory=False)\n",
    "df.head(3)"
   ]
  },
  {
   "cell_type": "code",
   "execution_count": 894,
   "metadata": {},
   "outputs": [
    {
     "data": {
      "text/plain": [
       "(19239, 110)"
      ]
     },
     "execution_count": 894,
     "metadata": {},
     "output_type": "execute_result"
    }
   ],
   "source": [
    "df.shape"
   ]
  },
  {
   "cell_type": "markdown",
   "metadata": {},
   "source": [
    "### III. Data Cleaning 🧹"
   ]
  },
  {
   "cell_type": "markdown",
   "metadata": {},
   "source": [
    "Deleting columns with more than 50% of missing values"
   ]
  },
  {
   "cell_type": "code",
   "execution_count": 895,
   "metadata": {},
   "outputs": [
    {
     "name": "stdout",
     "output_type": "stream",
     "text": [
      "club_loaned_from - 94%\n",
      "nation_team_id - 96%\n",
      "nation_position - 96%\n",
      "nation_jersey_number - 96%\n",
      "player_tags - 93%\n",
      "player_traits - 51%\n",
      "goalkeeping_speed - 89%\n",
      "nation_logo_url - 96%\n"
     ]
    }
   ],
   "source": [
    "cols_to_drop = []\n",
    "for i in df.columns:\n",
    "    missing = np.abs((df[i].count() - df[i].shape[0])/df[i].shape[0] * 100)\n",
    "    if missing > 50:\n",
    "        print('{} - {}%'.format(i, round(missing)))\n",
    "        cols_to_drop.append(i)"
   ]
  },
  {
   "cell_type": "markdown",
   "metadata": {},
   "source": [
    "Let's delete the columns **club_loaned_from, nation_team_id, nation_position, nation_jersey_number, player_tags, player_traits, goalkeeping_speed** who have more than 50% of missing values."
   ]
  },
  {
   "cell_type": "code",
   "execution_count": 896,
   "metadata": {},
   "outputs": [
    {
     "name": "stdout",
     "output_type": "stream",
     "text": [
      "(19239, 102)\n"
     ]
    }
   ],
   "source": [
    "df.drop(columns=cols_to_drop, inplace=True)\n",
    "print(df.shape)"
   ]
  },
  {
   "cell_type": "code",
   "execution_count": 897,
   "metadata": {},
   "outputs": [
    {
     "data": {
      "text/plain": [
       "Index(['sofifa_id', 'player_url', 'short_name', 'long_name',\n",
       "       'player_positions', 'overall', 'potential', 'value_eur', 'wage_eur',\n",
       "       'age',\n",
       "       ...\n",
       "       'lb', 'lcb', 'cb', 'rcb', 'rb', 'gk', 'player_face_url',\n",
       "       'club_logo_url', 'club_flag_url', 'nation_flag_url'],\n",
       "      dtype='object', length=102)"
      ]
     },
     "execution_count": 897,
     "metadata": {},
     "output_type": "execute_result"
    }
   ],
   "source": [
    "df.columns"
   ]
  },
  {
   "cell_type": "markdown",
   "metadata": {},
   "source": [
    "Now let's keep only players with the Moroccan 🇲🇦 Nationality"
   ]
  },
  {
   "cell_type": "code",
   "execution_count": 898,
   "metadata": {},
   "outputs": [],
   "source": [
    "df = df[df.nationality_name == 'Morocco']"
   ]
  },
  {
   "cell_type": "code",
   "execution_count": 899,
   "metadata": {},
   "outputs": [
    {
     "data": {
      "text/plain": [
       "(101, 102)"
      ]
     },
     "execution_count": 899,
     "metadata": {},
     "output_type": "execute_result"
    }
   ],
   "source": [
    "df.shape"
   ]
  },
  {
   "cell_type": "markdown",
   "metadata": {},
   "source": [
    "To have a nicer visualization of the clusters afterwards, we'll be keeping only the top players (rating over 70)."
   ]
  },
  {
   "cell_type": "code",
   "execution_count": 900,
   "metadata": {},
   "outputs": [
    {
     "name": "stdout",
     "output_type": "stream",
     "text": [
      "(43, 102)\n"
     ]
    }
   ],
   "source": [
    "df = df[df.overall > 70]\n",
    "print(df.shape)"
   ]
  },
  {
   "cell_type": "markdown",
   "metadata": {},
   "source": [
    "Dropping columns with urls in them."
   ]
  },
  {
   "cell_type": "code",
   "execution_count": 901,
   "metadata": {},
   "outputs": [
    {
     "data": {
      "text/plain": [
       "(43, 97)"
      ]
     },
     "execution_count": 901,
     "metadata": {},
     "output_type": "execute_result"
    }
   ],
   "source": [
    "df = df[df.columns.drop(list(df.filter(regex='url')))]\n",
    "        \n",
    "df.shape"
   ]
  },
  {
   "cell_type": "markdown",
   "metadata": {},
   "source": [
    "Replacing null values with the mean"
   ]
  },
  {
   "cell_type": "code",
   "execution_count": 902,
   "metadata": {},
   "outputs": [
    {
     "data": {
      "text/plain": [
       "sofifa_id           0\n",
       "short_name          0\n",
       "long_name           0\n",
       "player_positions    0\n",
       "overall             0\n",
       "                   ..\n",
       "lcb                 0\n",
       "cb                  0\n",
       "rcb                 0\n",
       "rb                  0\n",
       "gk                  0\n",
       "Length: 97, dtype: int64"
      ]
     },
     "execution_count": 902,
     "metadata": {},
     "output_type": "execute_result"
    }
   ],
   "source": [
    "df.isnull().sum()"
   ]
  },
  {
   "cell_type": "code",
   "execution_count": 903,
   "metadata": {},
   "outputs": [
    {
     "name": "stderr",
     "output_type": "stream",
     "text": [
      "C:\\Users\\hamza\\AppData\\Local\\Temp\\ipykernel_7232\\114435927.py:1: FutureWarning:\n",
      "\n",
      "The default value of numeric_only in DataFrame.mean is deprecated. In a future version, it will default to False. In addition, specifying 'numeric_only=None' is deprecated. Select only valid columns or specify the value of numeric_only to silence this warning.\n",
      "\n"
     ]
    }
   ],
   "source": [
    "df = df.fillna(df.mean())"
   ]
  },
  {
   "cell_type": "code",
   "execution_count": 904,
   "metadata": {},
   "outputs": [
    {
     "data": {
      "text/plain": [
       "Index(['sofifa_id', 'short_name', 'long_name', 'player_positions', 'overall',\n",
       "       'potential', 'value_eur', 'wage_eur', 'age', 'dob', 'height_cm',\n",
       "       'weight_kg', 'club_team_id', 'club_name', 'league_name', 'league_level',\n",
       "       'club_position', 'club_jersey_number', 'club_joined',\n",
       "       'club_contract_valid_until', 'nationality_id', 'nationality_name',\n",
       "       'preferred_foot', 'weak_foot', 'skill_moves',\n",
       "       'international_reputation', 'work_rate', 'body_type', 'real_face',\n",
       "       'release_clause_eur', 'pace', 'shooting', 'passing', 'dribbling',\n",
       "       'defending', 'physic', 'attacking_crossing', 'attacking_finishing',\n",
       "       'attacking_heading_accuracy', 'attacking_short_passing',\n",
       "       'attacking_volleys', 'skill_dribbling', 'skill_curve',\n",
       "       'skill_fk_accuracy', 'skill_long_passing', 'skill_ball_control',\n",
       "       'movement_acceleration', 'movement_sprint_speed', 'movement_agility',\n",
       "       'movement_reactions', 'movement_balance', 'power_shot_power',\n",
       "       'power_jumping', 'power_stamina', 'power_strength', 'power_long_shots',\n",
       "       'mentality_aggression', 'mentality_interceptions',\n",
       "       'mentality_positioning', 'mentality_vision', 'mentality_penalties',\n",
       "       'mentality_composure', 'defending_marking_awareness',\n",
       "       'defending_standing_tackle', 'defending_sliding_tackle',\n",
       "       'goalkeeping_diving', 'goalkeeping_handling', 'goalkeeping_kicking',\n",
       "       'goalkeeping_positioning', 'goalkeeping_reflexes', 'ls', 'st', 'rs',\n",
       "       'lw', 'lf', 'cf', 'rf', 'rw', 'lam', 'cam', 'ram', 'lm', 'lcm', 'cm',\n",
       "       'rcm', 'rm', 'lwb', 'ldm', 'cdm', 'rdm', 'rwb', 'lb', 'lcb', 'cb',\n",
       "       'rcb', 'rb', 'gk'],\n",
       "      dtype='object')"
      ]
     },
     "execution_count": 904,
     "metadata": {},
     "output_type": "execute_result"
    }
   ],
   "source": [
    "df.columns"
   ]
  },
  {
   "cell_type": "markdown",
   "metadata": {},
   "source": [
    "Selecting columns "
   ]
  },
  {
   "cell_type": "code",
   "execution_count": 905,
   "metadata": {},
   "outputs": [],
   "source": [
    "cols = ['short_name', 'player_positions', 'overall',\n",
    "       'potential', 'value_eur', 'wage_eur', 'age', 'dob', 'height_cm',\n",
    "       'weight_kg', 'club_team_id', 'club_name', 'league_name', 'league_level',\n",
    "       'club_position', 'club_jersey_number', 'club_joined',\n",
    "       'club_contract_valid_until', 'nationality_id', 'nationality_name',\n",
    "       'preferred_foot', 'weak_foot', 'skill_moves',\n",
    "       'international_reputation', 'work_rate', 'body_type', 'real_face',\n",
    "       'release_clause_eur', 'pace', 'shooting', 'passing', 'dribbling',\n",
    "       'defending', 'physic', 'attacking_crossing', 'attacking_finishing',\n",
    "       'attacking_heading_accuracy', 'attacking_short_passing',\n",
    "       'attacking_volleys', 'skill_dribbling', 'skill_curve',\n",
    "       'skill_fk_accuracy', 'skill_long_passing', 'skill_ball_control',\n",
    "       'movement_acceleration', 'movement_sprint_speed', 'movement_agility',\n",
    "       'movement_reactions', 'movement_balance', 'power_shot_power',\n",
    "       'power_jumping', 'power_stamina', 'power_strength', 'power_long_shots',\n",
    "       'mentality_aggression', 'mentality_interceptions',\n",
    "       'mentality_positioning', 'mentality_vision', 'mentality_penalties',\n",
    "       'mentality_composure', 'defending_marking_awareness',\n",
    "       'defending_standing_tackle', 'defending_sliding_tackle',\n",
    "       'goalkeeping_diving', 'goalkeeping_handling', 'goalkeeping_kicking',\n",
    "       'goalkeeping_positioning', 'goalkeeping_reflexes', 'ls', 'st', 'rs',\n",
    "       'lw', 'lf', 'cf', 'rf', 'rw', 'lam', 'cam', 'ram', 'lm', 'lcm', 'cm',\n",
    "       'rcm', 'rm', 'lwb', 'ldm', 'cdm', 'rdm', 'rwb', 'lb', 'lcb', 'cb',\n",
    "       'rcb', 'rb', 'gk']"
   ]
  },
  {
   "cell_type": "code",
   "execution_count": 906,
   "metadata": {},
   "outputs": [
    {
     "data": {
      "text/html": [
       "<div>\n",
       "<style scoped>\n",
       "    .dataframe tbody tr th:only-of-type {\n",
       "        vertical-align: middle;\n",
       "    }\n",
       "\n",
       "    .dataframe tbody tr th {\n",
       "        vertical-align: top;\n",
       "    }\n",
       "\n",
       "    .dataframe thead th {\n",
       "        text-align: right;\n",
       "    }\n",
       "</style>\n",
       "<table border=\"1\" class=\"dataframe\">\n",
       "  <thead>\n",
       "    <tr style=\"text-align: right;\">\n",
       "      <th></th>\n",
       "      <th>short_name</th>\n",
       "      <th>player_positions</th>\n",
       "      <th>overall</th>\n",
       "      <th>potential</th>\n",
       "      <th>value_eur</th>\n",
       "      <th>wage_eur</th>\n",
       "      <th>age</th>\n",
       "      <th>dob</th>\n",
       "      <th>height_cm</th>\n",
       "      <th>weight_kg</th>\n",
       "      <th>...</th>\n",
       "      <th>ldm</th>\n",
       "      <th>cdm</th>\n",
       "      <th>rdm</th>\n",
       "      <th>rwb</th>\n",
       "      <th>lb</th>\n",
       "      <th>lcb</th>\n",
       "      <th>cb</th>\n",
       "      <th>rcb</th>\n",
       "      <th>rb</th>\n",
       "      <th>gk</th>\n",
       "    </tr>\n",
       "  </thead>\n",
       "  <tbody>\n",
       "    <tr>\n",
       "      <th>95</th>\n",
       "      <td>A. Hakimi</td>\n",
       "      <td>RB, RWB</td>\n",
       "      <td>85</td>\n",
       "      <td>88</td>\n",
       "      <td>69500000.0</td>\n",
       "      <td>100000.0</td>\n",
       "      <td>22</td>\n",
       "      <td>1998-11-04</td>\n",
       "      <td>181</td>\n",
       "      <td>73</td>\n",
       "      <td>...</td>\n",
       "      <td>79+2</td>\n",
       "      <td>79+2</td>\n",
       "      <td>79+2</td>\n",
       "      <td>83+2</td>\n",
       "      <td>82+2</td>\n",
       "      <td>77+2</td>\n",
       "      <td>77+2</td>\n",
       "      <td>77+2</td>\n",
       "      <td>82+2</td>\n",
       "      <td>17+2</td>\n",
       "    </tr>\n",
       "    <tr>\n",
       "      <th>123</th>\n",
       "      <td>H. Ziyech</td>\n",
       "      <td>RW, CAM</td>\n",
       "      <td>84</td>\n",
       "      <td>84</td>\n",
       "      <td>42500000.0</td>\n",
       "      <td>170000.0</td>\n",
       "      <td>28</td>\n",
       "      <td>1993-03-19</td>\n",
       "      <td>181</td>\n",
       "      <td>65</td>\n",
       "      <td>...</td>\n",
       "      <td>70+3</td>\n",
       "      <td>70+3</td>\n",
       "      <td>70+3</td>\n",
       "      <td>70+3</td>\n",
       "      <td>66+3</td>\n",
       "      <td>57+3</td>\n",
       "      <td>57+3</td>\n",
       "      <td>57+3</td>\n",
       "      <td>66+3</td>\n",
       "      <td>18+3</td>\n",
       "    </tr>\n",
       "    <tr>\n",
       "      <th>238</th>\n",
       "      <td>Y. Bounou</td>\n",
       "      <td>GK</td>\n",
       "      <td>82</td>\n",
       "      <td>82</td>\n",
       "      <td>20500000.0</td>\n",
       "      <td>29000.0</td>\n",
       "      <td>30</td>\n",
       "      <td>1991-04-05</td>\n",
       "      <td>192</td>\n",
       "      <td>78</td>\n",
       "      <td>...</td>\n",
       "      <td>32+2</td>\n",
       "      <td>32+2</td>\n",
       "      <td>32+2</td>\n",
       "      <td>28+2</td>\n",
       "      <td>27+2</td>\n",
       "      <td>28+2</td>\n",
       "      <td>28+2</td>\n",
       "      <td>28+2</td>\n",
       "      <td>27+2</td>\n",
       "      <td>81+1</td>\n",
       "    </tr>\n",
       "    <tr>\n",
       "      <th>276</th>\n",
       "      <td>Y. En-Nesyri</td>\n",
       "      <td>ST, LW</td>\n",
       "      <td>82</td>\n",
       "      <td>86</td>\n",
       "      <td>44000000.0</td>\n",
       "      <td>37000.0</td>\n",
       "      <td>24</td>\n",
       "      <td>1997-06-01</td>\n",
       "      <td>188</td>\n",
       "      <td>78</td>\n",
       "      <td>...</td>\n",
       "      <td>54+2</td>\n",
       "      <td>54+2</td>\n",
       "      <td>54+2</td>\n",
       "      <td>55+2</td>\n",
       "      <td>53+2</td>\n",
       "      <td>52+2</td>\n",
       "      <td>52+2</td>\n",
       "      <td>52+2</td>\n",
       "      <td>53+2</td>\n",
       "      <td>19+2</td>\n",
       "    </tr>\n",
       "    <tr>\n",
       "      <th>399</th>\n",
       "      <td>M. Benatia</td>\n",
       "      <td>CB</td>\n",
       "      <td>80</td>\n",
       "      <td>80</td>\n",
       "      <td>7000000.0</td>\n",
       "      <td>19000.0</td>\n",
       "      <td>34</td>\n",
       "      <td>1987-04-17</td>\n",
       "      <td>189</td>\n",
       "      <td>94</td>\n",
       "      <td>...</td>\n",
       "      <td>73+3</td>\n",
       "      <td>73+3</td>\n",
       "      <td>73+3</td>\n",
       "      <td>69+3</td>\n",
       "      <td>71+3</td>\n",
       "      <td>79+1</td>\n",
       "      <td>79+1</td>\n",
       "      <td>79+1</td>\n",
       "      <td>71+3</td>\n",
       "      <td>15+3</td>\n",
       "    </tr>\n",
       "  </tbody>\n",
       "</table>\n",
       "<p>5 rows × 95 columns</p>\n",
       "</div>"
      ],
      "text/plain": [
       "       short_name player_positions  overall  potential   value_eur  wage_eur  \\\n",
       "95      A. Hakimi          RB, RWB       85         88  69500000.0  100000.0   \n",
       "123     H. Ziyech          RW, CAM       84         84  42500000.0  170000.0   \n",
       "238     Y. Bounou               GK       82         82  20500000.0   29000.0   \n",
       "276  Y. En-Nesyri           ST, LW       82         86  44000000.0   37000.0   \n",
       "399    M. Benatia               CB       80         80   7000000.0   19000.0   \n",
       "\n",
       "     age         dob  height_cm  weight_kg  ...   ldm   cdm   rdm   rwb    lb  \\\n",
       "95    22  1998-11-04        181         73  ...  79+2  79+2  79+2  83+2  82+2   \n",
       "123   28  1993-03-19        181         65  ...  70+3  70+3  70+3  70+3  66+3   \n",
       "238   30  1991-04-05        192         78  ...  32+2  32+2  32+2  28+2  27+2   \n",
       "276   24  1997-06-01        188         78  ...  54+2  54+2  54+2  55+2  53+2   \n",
       "399   34  1987-04-17        189         94  ...  73+3  73+3  73+3  69+3  71+3   \n",
       "\n",
       "      lcb    cb   rcb    rb    gk  \n",
       "95   77+2  77+2  77+2  82+2  17+2  \n",
       "123  57+3  57+3  57+3  66+3  18+3  \n",
       "238  28+2  28+2  28+2  27+2  81+1  \n",
       "276  52+2  52+2  52+2  53+2  19+2  \n",
       "399  79+1  79+1  79+1  71+3  15+3  \n",
       "\n",
       "[5 rows x 95 columns]"
      ]
     },
     "execution_count": 906,
     "metadata": {},
     "output_type": "execute_result"
    }
   ],
   "source": [
    "df = df[cols]\n",
    "df.head()"
   ]
  },
  {
   "cell_type": "markdown",
   "metadata": {},
   "source": [
    "For more informations about the player positions in FIFA against real world positions please see this: https://www.fifplay.com/encyclopedia/position/"
   ]
  },
  {
   "cell_type": "markdown",
   "metadata": {},
   "source": [
    "### IV. Exploratory Data Analysis 📊"
   ]
  },
  {
   "cell_type": "markdown",
   "metadata": {},
   "source": [
    "Let's explore the annual wages that our Moroccan footballers are getting."
   ]
  },
  {
   "cell_type": "code",
   "execution_count": 907,
   "metadata": {},
   "outputs": [
    {
     "data": {
      "image/png": "[encoded data removed]",
      "text/plain": [
       "<Figure size 1000x600 with 1 Axes>"
      ]
     },
     "metadata": {},
     "output_type": "display_data"
    }
   ],
   "source": [
    "plt.figure(figsize=(10, 6))\n",
    "plt.hist(x=df.wage_eur,bins=10)\n",
    "\n",
    "plt.title(\"Wage in Euro\")\n",
    "plt.xticks(rotation=45)\n",
    "plt.show()"
   ]
  },
  {
   "cell_type": "markdown",
   "metadata": {},
   "source": [
    "We can see that very few players get more than 50,000 €"
   ]
  },
  {
   "cell_type": "markdown",
   "metadata": {},
   "source": [
    "### Relationship between Overall Rating and Wages"
   ]
  },
  {
   "cell_type": "code",
   "execution_count": 908,
   "metadata": {},
   "outputs": [
    {
     "data": {
      "image/png": "[encoded data removed]",
      "text/plain": [
       "<Figure size 800x500 with 1 Axes>"
      ]
     },
     "metadata": {},
     "output_type": "display_data"
    }
   ],
   "source": [
    "fig, ax = plt.subplots(figsize=(8,5))\n",
    "plt.scatter(data = df, x= 'overall', y='wage_eur')\n",
    "plt.xlabel(\"Overall Rating\") \n",
    "plt.ylabel(\"Wage in EUR\")\n",
    "plt.title(\"Overall Rating vs Wages in EUR\", fontsize = 16)\n",
    "plt.show()"
   ]
  },
  {
   "cell_type": "markdown",
   "metadata": {},
   "source": [
    "We can see that skilled players make more than the average players."
   ]
  },
  {
   "cell_type": "markdown",
   "metadata": {},
   "source": [
    "### Relationship between Player Postion and wages"
   ]
  },
  {
   "cell_type": "code",
   "execution_count": 909,
   "metadata": {},
   "outputs": [
    {
     "data": {
      "image/png": "[encoded data removed]",
      "text/plain": [
       "<Figure size 1400x500 with 1 Axes>"
      ]
     },
     "metadata": {},
     "output_type": "display_data"
    }
   ],
   "source": [
    "fig, ax = plt.subplots(figsize=(14,5))\n",
    "plt.scatter(data = df, x= 'club_position', y='wage_eur')\n",
    "plt.xlabel(\"Player Postion\") \n",
    "plt.ylabel(\"Wage in EUR\")\n",
    "plt.title(\"Player Postion vs Wages in EUR\", fontsize = 16)\n",
    "plt.show()"
   ]
  },
  {
   "cell_type": "markdown",
   "metadata": {},
   "source": [
    "There's no direct relationship between a player's position and his wage."
   ]
  },
  {
   "cell_type": "markdown",
   "metadata": {},
   "source": [
    "### Relationship between age and wages"
   ]
  },
  {
   "cell_type": "code",
   "execution_count": 910,
   "metadata": {},
   "outputs": [
    {
     "data": {
      "image/png": "[encoded data removed]",
      "text/plain": [
       "<Figure size 800x500 with 1 Axes>"
      ]
     },
     "metadata": {},
     "output_type": "display_data"
    }
   ],
   "source": [
    "fig, ax = plt.subplots(figsize=(8,5))\n",
    "plt.scatter(data = df, x= 'age', y='wage_eur')\n",
    "plt.xlabel(\"Age\") \n",
    "plt.ylabel(\"Wage in EUR\")\n",
    "plt.title(\"Age vs Wage in EUR\", fontsize = 16)\n",
    "plt.show()"
   ]
  },
  {
   "cell_type": "markdown",
   "metadata": {},
   "source": [
    "Let's explore the age distrubution of our players."
   ]
  },
  {
   "cell_type": "code",
   "execution_count": 911,
   "metadata": {},
   "outputs": [
    {
     "data": {
      "image/png": "[encoded data removed]",
      "text/plain": [
       "<Figure size 800x600 with 1 Axes>"
      ]
     },
     "metadata": {},
     "output_type": "display_data"
    }
   ],
   "source": [
    "plt.figure(figsize=(8, 6))\n",
    "sns.barplot(x=df.age.value_counts().index, y=df.age.value_counts().values,palette=\"plasma\",capsize=.2)\n",
    "\n",
    "plt.xticks(fontsize=15, rotation=90)\n",
    "plt.yticks(fontsize=15)\n",
    "plt.title('Age Distribution')\n",
    "plt.show()"
   ]
  },
  {
   "cell_type": "code",
   "execution_count": 912,
   "metadata": {},
   "outputs": [
    {
     "data": {
      "image/png": "[encoded data removed]",
      "text/plain": [
       "<Figure size 1600x600 with 1 Axes>"
      ]
     },
     "metadata": {},
     "output_type": "display_data"
    }
   ],
   "source": [
    "plt.figure(figsize=(16, 6))\n",
    "sns.barplot(x=df.league_name.value_counts().index, y=df.league_name.value_counts().values,palette=\"plasma\",capsize=.2)\n",
    "\n",
    "plt.xticks(fontsize=15, rotation=90)\n",
    "plt.yticks(fontsize=15)\n",
    "plt.show()"
   ]
  },
  {
   "cell_type": "markdown",
   "metadata": {},
   "source": [
    "We can see that the French Ligue 1 has the most Moroccan players amongts other leagues, followed by the Turkish and Spanish league."
   ]
  },
  {
   "cell_type": "markdown",
   "metadata": {},
   "source": [
    "Now let's compare the skills of two of the most controversial players in our National Team Morocco, Youssef En-Nesyri and Hamdallah. "
   ]
  },
  {
   "cell_type": "code",
   "execution_count": 913,
   "metadata": {},
   "outputs": [],
   "source": [
    "labels=np.array([\n",
    "    \"shooting\",\n",
    "    'passing',\n",
    "    'dribbling',\n",
    "    'defending',\n",
    "    \"overall\",\n",
    "    \"potential\",\n",
    "])"
   ]
  },
  {
   "cell_type": "code",
   "execution_count": 914,
   "metadata": {},
   "outputs": [],
   "source": [
    "striker1 = 'Y. En-Nesyri'\n",
    "striker2 = 'A. Hamdallah'"
   ]
  },
  {
   "cell_type": "code",
   "execution_count": 915,
   "metadata": {},
   "outputs": [
    {
     "data": {
      "application/vnd.plotly.v1+json": {
       "config": {
        "plotlyServerURL": "https://plot.ly"
       },
       "data": [
        {
         "fill": "toself",
         "name": "Y. En-Nesyri",
         "r": [
          83,
          58,
          78,
          35,
          82,
          86
         ],
         "theta": [
          "shooting",
          "passing",
          "dribbling",
          "defending",
          "overall",
          "potential"
         ],
         "type": "scatterpolar"
        },
        {
         "fill": "toself",
         "name": "A. Hamdallah",
         "r": [
          78,
          70,
          77,
          30,
          77,
          77
         ],
         "theta": [
          "shooting",
          "passing",
          "dribbling",
          "defending",
          "overall",
          "potential"
         ],
         "type": "scatterpolar"
        }
       ],
       "layout": {
        "autosize": false,
        "height": 700,
        "template": {
         "data": {
          "bar": [
           {
            "error_x": {
             "color": "#2a3f5f"
            },
            "error_y": {
             "color": "#2a3f5f"
            },
            "marker": {
             "line": {
              "color": "#E5ECF6",
              "width": 0.5
             },
             "pattern": {
              "fillmode": "overlay",
              "size": 10,
              "solidity": 0.2
             }
            },
            "type": "bar"
           }
          ],
          "barpolar": [
           {
            "marker": {
             "line": {
              "color": "#E5ECF6",
              "width": 0.5
             },
             "pattern": {
              "fillmode": "overlay",
              "size": 10,
              "solidity": 0.2
             }
            },
            "type": "barpolar"
           }
          ],
          "carpet": [
           {
            "aaxis": {
             "endlinecolor": "#2a3f5f",
             "gridcolor": "white",
             "linecolor": "white",
             "minorgridcolor": "white",
             "startlinecolor": "#2a3f5f"
            },
            "baxis": {
             "endlinecolor": "#2a3f5f",
             "gridcolor": "white",
             "linecolor": "white",
             "minorgridcolor": "white",
             "startlinecolor": "#2a3f5f"
            },
            "type": "carpet"
           }
          ],
          "choropleth": [
           {
            "colorbar": {
             "outlinewidth": 0,
             "ticks": ""
            },
            "type": "choropleth"
           }
          ],
          "contour": [
           {
            "colorbar": {
             "outlinewidth": 0,
             "ticks": ""
            },
            "colorscale": [
             [
              0,
              "#0d0887"
             ],
             [
              0.1111111111111111,
              "#46039f"
             ],
             [
              0.2222222222222222,
              "#7201a8"
             ],
             [
              0.3333333333333333,
              "#9c179e"
             ],
             [
              0.4444444444444444,
              "#bd3786"
             ],
             [
              0.5555555555555556,
              "#d8576b"
             ],
             [
              0.6666666666666666,
              "#ed7953"
             ],
             [
              0.7777777777777778,
              "#fb9f3a"
             ],
             [
              0.8888888888888888,
              "#fdca26"
             ],
             [
              1,
              "#f0f921"
             ]
            ],
            "type": "contour"
           }
          ],
          "contourcarpet": [
           {
            "colorbar": {
             "outlinewidth": 0,
             "ticks": ""
            },
            "type": "contourcarpet"
           }
          ],
          "heatmap": [
           {
            "colorbar": {
             "outlinewidth": 0,
             "ticks": ""
            },
            "colorscale": [
             [
              0,
              "#0d0887"
             ],
             [
              0.1111111111111111,
              "#46039f"
             ],
             [
              0.2222222222222222,
              "#7201a8"
             ],
             [
              0.3333333333333333,
              "#9c179e"
             ],
             [
              0.4444444444444444,
              "#bd3786"
             ],
             [
              0.5555555555555556,
              "#d8576b"
             ],
             [
              0.6666666666666666,
              "#ed7953"
             ],
             [
              0.7777777777777778,
              "#fb9f3a"
             ],
             [
              0.8888888888888888,
              "#fdca26"
             ],
             [
              1,
              "#f0f921"
             ]
            ],
            "type": "heatmap"
           }
          ],
          "heatmapgl": [
           {
            "colorbar": {
             "outlinewidth": 0,
             "ticks": ""
            },
            "colorscale": [
             [
              0,
              "#0d0887"
             ],
             [
              0.1111111111111111,
              "#46039f"
             ],
             [
              0.2222222222222222,
              "#7201a8"
             ],
             [
              0.3333333333333333,
              "#9c179e"
             ],
             [
              0.4444444444444444,
              "#bd3786"
             ],
             [
              0.5555555555555556,
              "#d8576b"
             ],
             [
              0.6666666666666666,
              "#ed7953"
             ],
             [
              0.7777777777777778,
              "#fb9f3a"
             ],
             [
              0.8888888888888888,
              "#fdca26"
             ],
             [
              1,
              "#f0f921"
             ]
            ],
            "type": "heatmapgl"
           }
          ],
          "histogram": [
           {
            "marker": {
             "pattern": {
              "fillmode": "overlay",
              "size": 10,
              "solidity": 0.2
             }
            },
            "type": "histogram"
           }
          ],
          "histogram2d": [
           {
            "colorbar": {
             "outlinewidth": 0,
             "ticks": ""
            },
            "colorscale": [
             [
              0,
              "#0d0887"
             ],
             [
              0.1111111111111111,
              "#46039f"
             ],
             [
              0.2222222222222222,
              "#7201a8"
             ],
             [
              0.3333333333333333,
              "#9c179e"
             ],
             [
              0.4444444444444444,
              "#bd3786"
             ],
             [
              0.5555555555555556,
              "#d8576b"
             ],
             [
              0.6666666666666666,
              "#ed7953"
             ],
             [
              0.7777777777777778,
              "#fb9f3a"
             ],
             [
              0.8888888888888888,
              "#fdca26"
             ],
             [
              1,
              "#f0f921"
             ]
            ],
            "type": "histogram2d"
           }
          ],
          "histogram2dcontour": [
           {
            "colorbar": {
             "outlinewidth": 0,
             "ticks": ""
            },
            "colorscale": [
             [
              0,
              "#0d0887"
             ],
             [
              0.1111111111111111,
              "#46039f"
             ],
             [
              0.2222222222222222,
              "#7201a8"
             ],
             [
              0.3333333333333333,
              "#9c179e"
             ],
             [
              0.4444444444444444,
              "#bd3786"
             ],
             [
              0.5555555555555556,
              "#d8576b"
             ],
             [
              0.6666666666666666,
              "#ed7953"
             ],
             [
              0.7777777777777778,
              "#fb9f3a"
             ],
             [
              0.8888888888888888,
              "#fdca26"
             ],
             [
              1,
              "#f0f921"
             ]
            ],
            "type": "histogram2dcontour"
           }
          ],
          "mesh3d": [
           {
            "colorbar": {
             "outlinewidth": 0,
             "ticks": ""
            },
            "type": "mesh3d"
           }
          ],
          "parcoords": [
           {
            "line": {
             "colorbar": {
              "outlinewidth": 0,
              "ticks": ""
             }
            },
            "type": "parcoords"
           }
          ],
          "pie": [
           {
            "automargin": true,
            "type": "pie"
           }
          ],
          "scatter": [
           {
            "fillpattern": {
             "fillmode": "overlay",
             "size": 10,
             "solidity": 0.2
            },
            "type": "scatter"
           }
          ],
          "scatter3d": [
           {
            "line": {
             "colorbar": {
              "outlinewidth": 0,
              "ticks": ""
             }
            },
            "marker": {
             "colorbar": {
              "outlinewidth": 0,
              "ticks": ""
             }
            },
            "type": "scatter3d"
           }
          ],
          "scattercarpet": [
           {
            "marker": {
             "colorbar": {
              "outlinewidth": 0,
              "ticks": ""
             }
            },
            "type": "scattercarpet"
           }
          ],
          "scattergeo": [
           {
            "marker": {
             "colorbar": {
              "outlinewidth": 0,
              "ticks": ""
             }
            },
            "type": "scattergeo"
           }
          ],
          "scattergl": [
           {
            "marker": {
             "colorbar": {
              "outlinewidth": 0,
              "ticks": ""
             }
            },
            "type": "scattergl"
           }
          ],
          "scattermapbox": [
           {
            "marker": {
             "colorbar": {
              "outlinewidth": 0,
              "ticks": ""
             }
            },
            "type": "scattermapbox"
           }
          ],
          "scatterpolar": [
           {
            "marker": {
             "colorbar": {
              "outlinewidth": 0,
              "ticks": ""
             }
            },
            "type": "scatterpolar"
           }
          ],
          "scatterpolargl": [
           {
            "marker": {
             "colorbar": {
              "outlinewidth": 0,
              "ticks": ""
             }
            },
            "type": "scatterpolargl"
           }
          ],
          "scatterternary": [
           {
            "marker": {
             "colorbar": {
              "outlinewidth": 0,
              "ticks": ""
             }
            },
            "type": "scatterternary"
           }
          ],
          "surface": [
           {
            "colorbar": {
             "outlinewidth": 0,
             "ticks": ""
            },
            "colorscale": [
             [
              0,
              "#0d0887"
             ],
             [
              0.1111111111111111,
              "#46039f"
             ],
             [
              0.2222222222222222,
              "#7201a8"
             ],
             [
              0.3333333333333333,
              "#9c179e"
             ],
             [
              0.4444444444444444,
              "#bd3786"
             ],
             [
              0.5555555555555556,
              "#d8576b"
             ],
             [
              0.6666666666666666,
              "#ed7953"
             ],
             [
              0.7777777777777778,
              "#fb9f3a"
             ],
             [
              0.8888888888888888,
              "#fdca26"
             ],
             [
              1,
              "#f0f921"
             ]
            ],
            "type": "surface"
           }
          ],
          "table": [
           {
            "cells": {
             "fill": {
              "color": "#EBF0F8"
             },
             "line": {
              "color": "white"
             }
            },
            "header": {
             "fill": {
              "color": "#C8D4E3"
             },
             "line": {
              "color": "white"
             }
            },
            "type": "table"
           }
          ]
         },
         "layout": {
          "annotationdefaults": {
           "arrowcolor": "#2a3f5f",
           "arrowhead": 0,
           "arrowwidth": 1
          },
          "autotypenumbers": "strict",
          "coloraxis": {
           "colorbar": {
            "outlinewidth": 0,
            "ticks": ""
           }
          },
          "colorscale": {
           "diverging": [
            [
             0,
             "#8e0152"
            ],
            [
             0.1,
             "#c51b7d"
            ],
            [
             0.2,
             "#de77ae"
            ],
            [
             0.3,
             "#f1b6da"
            ],
            [
             0.4,
             "#fde0ef"
            ],
            [
             0.5,
             "#f7f7f7"
            ],
            [
             0.6,
             "#e6f5d0"
            ],
            [
             0.7,
             "#b8e186"
            ],
            [
             0.8,
             "#7fbc41"
            ],
            [
             0.9,
             "#4d9221"
            ],
            [
             1,
             "#276419"
            ]
           ],
           "sequential": [
            [
             0,
             "#0d0887"
            ],
            [
             0.1111111111111111,
             "#46039f"
            ],
            [
             0.2222222222222222,
             "#7201a8"
            ],
            [
             0.3333333333333333,
             "#9c179e"
            ],
            [
             0.4444444444444444,
             "#bd3786"
            ],
            [
             0.5555555555555556,
             "#d8576b"
            ],
            [
             0.6666666666666666,
             "#ed7953"
            ],
            [
             0.7777777777777778,
             "#fb9f3a"
            ],
            [
             0.8888888888888888,
             "#fdca26"
            ],
            [
             1,
             "#f0f921"
            ]
           ],
           "sequentialminus": [
            [
             0,
             "#0d0887"
            ],
            [
             0.1111111111111111,
             "#46039f"
            ],
            [
             0.2222222222222222,
             "#7201a8"
            ],
            [
             0.3333333333333333,
             "#9c179e"
            ],
            [
             0.4444444444444444,
             "#bd3786"
            ],
            [
             0.5555555555555556,
             "#d8576b"
            ],
            [
             0.6666666666666666,
             "#ed7953"
            ],
            [
             0.7777777777777778,
             "#fb9f3a"
            ],
            [
             0.8888888888888888,
             "#fdca26"
            ],
            [
             1,
             "#f0f921"
            ]
           ]
          },
          "colorway": [
           "#636efa",
           "#EF553B",
           "#00cc96",
           "#ab63fa",
           "#FFA15A",
           "#19d3f3",
           "#FF6692",
           "#B6E880",
           "#FF97FF",
           "#FECB52"
          ],
          "font": {
           "color": "#2a3f5f"
          },
          "geo": {
           "bgcolor": "white",
           "lakecolor": "white",
           "landcolor": "#E5ECF6",
           "showlakes": true,
           "showland": true,
           "subunitcolor": "white"
          },
          "hoverlabel": {
           "align": "left"
          },
          "hovermode": "closest",
          "mapbox": {
           "style": "light"
          },
          "paper_bgcolor": "white",
          "plot_bgcolor": "#E5ECF6",
          "polar": {
           "angularaxis": {
            "gridcolor": "white",
            "linecolor": "white",
            "ticks": ""
           },
           "bgcolor": "#E5ECF6",
           "radialaxis": {
            "gridcolor": "white",
            "linecolor": "white",
            "ticks": ""
           }
          },
          "scene": {
           "xaxis": {
            "backgroundcolor": "#E5ECF6",
            "gridcolor": "white",
            "gridwidth": 2,
            "linecolor": "white",
            "showbackground": true,
            "ticks": "",
            "zerolinecolor": "white"
           },
           "yaxis": {
            "backgroundcolor": "#E5ECF6",
            "gridcolor": "white",
            "gridwidth": 2,
            "linecolor": "white",
            "showbackground": true,
            "ticks": "",
            "zerolinecolor": "white"
           },
           "zaxis": {
            "backgroundcolor": "#E5ECF6",
            "gridcolor": "white",
            "gridwidth": 2,
            "linecolor": "white",
            "showbackground": true,
            "ticks": "",
            "zerolinecolor": "white"
           }
          },
          "shapedefaults": {
           "line": {
            "color": "#2a3f5f"
           }
          },
          "ternary": {
           "aaxis": {
            "gridcolor": "white",
            "linecolor": "white",
            "ticks": ""
           },
           "baxis": {
            "gridcolor": "white",
            "linecolor": "white",
            "ticks": ""
           },
           "bgcolor": "#E5ECF6",
           "caxis": {
            "gridcolor": "white",
            "linecolor": "white",
            "ticks": ""
           }
          },
          "title": {
           "x": 0.05
          },
          "xaxis": {
           "automargin": true,
           "gridcolor": "white",
           "linecolor": "white",
           "ticks": "",
           "title": {
            "standoff": 15
           },
           "zerolinecolor": "white",
           "zerolinewidth": 2
          },
          "yaxis": {
           "automargin": true,
           "gridcolor": "white",
           "linecolor": "white",
           "ticks": "",
           "title": {
            "standoff": 15
           },
           "zerolinecolor": "white",
           "zerolinewidth": 2
          }
         }
        },
        "width": 700
       }
      }
     },
     "metadata": {},
     "output_type": "display_data"
    }
   ],
   "source": [
    "i = df[df.short_name.str.contains(striker1)][labels].index.item()\n",
    "stats = df.loc[i, labels].values\n",
    "\n",
    "fig = go.Figure()\n",
    "\n",
    "fig.add_trace(go.Scatterpolar(\n",
    "      r=stats,\n",
    "      theta=labels,\n",
    "      fill='toself',\n",
    "      name=striker1\n",
    "))\n",
    "\n",
    "i = df[df.short_name.str.contains(striker2)][labels].index.item()\n",
    "stats = df.loc[i, labels].values\n",
    "\n",
    "fig.add_trace(go.Scatterpolar(\n",
    "      r=stats,\n",
    "      theta=labels,\n",
    "      fill='toself',\n",
    "      name=striker2\n",
    "))\n",
    "\n",
    "fig.update_layout(\n",
    "    autosize=False,\n",
    "    width=700,\n",
    "    height=700,)\n",
    "\n",
    "fig.show()"
   ]
  },
  {
   "cell_type": "markdown",
   "metadata": {},
   "source": [
    "We can see clearly that En-Nseyri have more skill than Hamdallah overall, but Hamdallah is better in passing. I will let you be the judge of who should be in our Starting XI. 😉"
   ]
  },
  {
   "cell_type": "code",
   "execution_count": 916,
   "metadata": {},
   "outputs": [
    {
     "name": "stdout",
     "output_type": "stream",
     "text": [
      "Top 30 players\n",
      "\n",
      "Mean overall :  77\n",
      "Mean potential :  79\n",
      "Mean wage_eur :  30067\n",
      "Mean pace :  70\n",
      "Mean physic :  70\n"
     ]
    }
   ],
   "source": [
    "print(\"Top 30 players\\n\")\n",
    "x = ['overall','potential','wage_eur','pace','physic']\n",
    "for i in x:\n",
    "    print(\"Mean {} :  {:.0f}\".format(i,top_players[i].mean()))"
   ]
  },
  {
   "cell_type": "markdown",
   "metadata": {},
   "source": [
    "### V. Data Mining ⛏️"
   ]
  },
  {
   "cell_type": "markdown",
   "metadata": {},
   "source": [
    "#### 1. Data pre-processing"
   ]
  },
  {
   "cell_type": "markdown",
   "metadata": {},
   "source": [
    "First we gonna drop the name and save it for later use. "
   ]
  },
  {
   "cell_type": "code",
   "execution_count": 917,
   "metadata": {},
   "outputs": [],
   "source": [
    "names = df.short_name.tolist() \n",
    "\n",
    "df = df.drop(['short_name'], axis = 1) "
   ]
  },
  {
   "cell_type": "code",
   "execution_count": 918,
   "metadata": {},
   "outputs": [
    {
     "data": {
      "text/html": [
       "<div>\n",
       "<style scoped>\n",
       "    .dataframe tbody tr th:only-of-type {\n",
       "        vertical-align: middle;\n",
       "    }\n",
       "\n",
       "    .dataframe tbody tr th {\n",
       "        vertical-align: top;\n",
       "    }\n",
       "\n",
       "    .dataframe thead th {\n",
       "        text-align: right;\n",
       "    }\n",
       "</style>\n",
       "<table border=\"1\" class=\"dataframe\">\n",
       "  <thead>\n",
       "    <tr style=\"text-align: right;\">\n",
       "      <th></th>\n",
       "      <th>player_positions</th>\n",
       "      <th>overall</th>\n",
       "      <th>potential</th>\n",
       "      <th>value_eur</th>\n",
       "      <th>wage_eur</th>\n",
       "      <th>age</th>\n",
       "      <th>dob</th>\n",
       "      <th>height_cm</th>\n",
       "      <th>weight_kg</th>\n",
       "      <th>club_team_id</th>\n",
       "      <th>...</th>\n",
       "      <th>ldm</th>\n",
       "      <th>cdm</th>\n",
       "      <th>rdm</th>\n",
       "      <th>rwb</th>\n",
       "      <th>lb</th>\n",
       "      <th>lcb</th>\n",
       "      <th>cb</th>\n",
       "      <th>rcb</th>\n",
       "      <th>rb</th>\n",
       "      <th>gk</th>\n",
       "    </tr>\n",
       "  </thead>\n",
       "  <tbody>\n",
       "    <tr>\n",
       "      <th>95</th>\n",
       "      <td>RB, RWB</td>\n",
       "      <td>85</td>\n",
       "      <td>88</td>\n",
       "      <td>69500000.0</td>\n",
       "      <td>100000.0</td>\n",
       "      <td>22</td>\n",
       "      <td>1998-11-04</td>\n",
       "      <td>181</td>\n",
       "      <td>73</td>\n",
       "      <td>73.0</td>\n",
       "      <td>...</td>\n",
       "      <td>79+2</td>\n",
       "      <td>79+2</td>\n",
       "      <td>79+2</td>\n",
       "      <td>83+2</td>\n",
       "      <td>82+2</td>\n",
       "      <td>77+2</td>\n",
       "      <td>77+2</td>\n",
       "      <td>77+2</td>\n",
       "      <td>82+2</td>\n",
       "      <td>17+2</td>\n",
       "    </tr>\n",
       "    <tr>\n",
       "      <th>123</th>\n",
       "      <td>RW, CAM</td>\n",
       "      <td>84</td>\n",
       "      <td>84</td>\n",
       "      <td>42500000.0</td>\n",
       "      <td>170000.0</td>\n",
       "      <td>28</td>\n",
       "      <td>1993-03-19</td>\n",
       "      <td>181</td>\n",
       "      <td>65</td>\n",
       "      <td>5.0</td>\n",
       "      <td>...</td>\n",
       "      <td>70+3</td>\n",
       "      <td>70+3</td>\n",
       "      <td>70+3</td>\n",
       "      <td>70+3</td>\n",
       "      <td>66+3</td>\n",
       "      <td>57+3</td>\n",
       "      <td>57+3</td>\n",
       "      <td>57+3</td>\n",
       "      <td>66+3</td>\n",
       "      <td>18+3</td>\n",
       "    </tr>\n",
       "    <tr>\n",
       "      <th>238</th>\n",
       "      <td>GK</td>\n",
       "      <td>82</td>\n",
       "      <td>82</td>\n",
       "      <td>20500000.0</td>\n",
       "      <td>29000.0</td>\n",
       "      <td>30</td>\n",
       "      <td>1991-04-05</td>\n",
       "      <td>192</td>\n",
       "      <td>78</td>\n",
       "      <td>481.0</td>\n",
       "      <td>...</td>\n",
       "      <td>32+2</td>\n",
       "      <td>32+2</td>\n",
       "      <td>32+2</td>\n",
       "      <td>28+2</td>\n",
       "      <td>27+2</td>\n",
       "      <td>28+2</td>\n",
       "      <td>28+2</td>\n",
       "      <td>28+2</td>\n",
       "      <td>27+2</td>\n",
       "      <td>81+1</td>\n",
       "    </tr>\n",
       "    <tr>\n",
       "      <th>276</th>\n",
       "      <td>ST, LW</td>\n",
       "      <td>82</td>\n",
       "      <td>86</td>\n",
       "      <td>44000000.0</td>\n",
       "      <td>37000.0</td>\n",
       "      <td>24</td>\n",
       "      <td>1997-06-01</td>\n",
       "      <td>188</td>\n",
       "      <td>78</td>\n",
       "      <td>481.0</td>\n",
       "      <td>...</td>\n",
       "      <td>54+2</td>\n",
       "      <td>54+2</td>\n",
       "      <td>54+2</td>\n",
       "      <td>55+2</td>\n",
       "      <td>53+2</td>\n",
       "      <td>52+2</td>\n",
       "      <td>52+2</td>\n",
       "      <td>52+2</td>\n",
       "      <td>53+2</td>\n",
       "      <td>19+2</td>\n",
       "    </tr>\n",
       "    <tr>\n",
       "      <th>399</th>\n",
       "      <td>CB</td>\n",
       "      <td>80</td>\n",
       "      <td>80</td>\n",
       "      <td>7000000.0</td>\n",
       "      <td>19000.0</td>\n",
       "      <td>34</td>\n",
       "      <td>1987-04-17</td>\n",
       "      <td>189</td>\n",
       "      <td>94</td>\n",
       "      <td>111117.0</td>\n",
       "      <td>...</td>\n",
       "      <td>73+3</td>\n",
       "      <td>73+3</td>\n",
       "      <td>73+3</td>\n",
       "      <td>69+3</td>\n",
       "      <td>71+3</td>\n",
       "      <td>79+1</td>\n",
       "      <td>79+1</td>\n",
       "      <td>79+1</td>\n",
       "      <td>71+3</td>\n",
       "      <td>15+3</td>\n",
       "    </tr>\n",
       "  </tbody>\n",
       "</table>\n",
       "<p>5 rows × 94 columns</p>\n",
       "</div>"
      ],
      "text/plain": [
       "    player_positions  overall  potential   value_eur  wage_eur  age  \\\n",
       "95           RB, RWB       85         88  69500000.0  100000.0   22   \n",
       "123          RW, CAM       84         84  42500000.0  170000.0   28   \n",
       "238               GK       82         82  20500000.0   29000.0   30   \n",
       "276           ST, LW       82         86  44000000.0   37000.0   24   \n",
       "399               CB       80         80   7000000.0   19000.0   34   \n",
       "\n",
       "            dob  height_cm  weight_kg  club_team_id  ...   ldm   cdm   rdm  \\\n",
       "95   1998-11-04        181         73          73.0  ...  79+2  79+2  79+2   \n",
       "123  1993-03-19        181         65           5.0  ...  70+3  70+3  70+3   \n",
       "238  1991-04-05        192         78         481.0  ...  32+2  32+2  32+2   \n",
       "276  1997-06-01        188         78         481.0  ...  54+2  54+2  54+2   \n",
       "399  1987-04-17        189         94      111117.0  ...  73+3  73+3  73+3   \n",
       "\n",
       "      rwb    lb   lcb    cb   rcb    rb    gk  \n",
       "95   83+2  82+2  77+2  77+2  77+2  82+2  17+2  \n",
       "123  70+3  66+3  57+3  57+3  57+3  66+3  18+3  \n",
       "238  28+2  27+2  28+2  28+2  28+2  27+2  81+1  \n",
       "276  55+2  53+2  52+2  52+2  52+2  53+2  19+2  \n",
       "399  69+3  71+3  79+1  79+1  79+1  71+3  15+3  \n",
       "\n",
       "[5 rows x 94 columns]"
      ]
     },
     "execution_count": 918,
     "metadata": {},
     "output_type": "execute_result"
    }
   ],
   "source": [
    "df.head()"
   ]
  },
  {
   "cell_type": "markdown",
   "metadata": {},
   "source": [
    "Now we're gonna remove all non numeric colums."
   ]
  },
  {
   "cell_type": "code",
   "execution_count": 919,
   "metadata": {},
   "outputs": [
    {
     "data": {
      "text/html": [
       "<div>\n",
       "<style scoped>\n",
       "    .dataframe tbody tr th:only-of-type {\n",
       "        vertical-align: middle;\n",
       "    }\n",
       "\n",
       "    .dataframe tbody tr th {\n",
       "        vertical-align: top;\n",
       "    }\n",
       "\n",
       "    .dataframe thead th {\n",
       "        text-align: right;\n",
       "    }\n",
       "</style>\n",
       "<table border=\"1\" class=\"dataframe\">\n",
       "  <thead>\n",
       "    <tr style=\"text-align: right;\">\n",
       "      <th></th>\n",
       "      <th>overall</th>\n",
       "      <th>potential</th>\n",
       "      <th>value_eur</th>\n",
       "      <th>wage_eur</th>\n",
       "      <th>age</th>\n",
       "      <th>height_cm</th>\n",
       "      <th>weight_kg</th>\n",
       "      <th>club_team_id</th>\n",
       "      <th>league_level</th>\n",
       "      <th>club_jersey_number</th>\n",
       "      <th>...</th>\n",
       "      <th>mentality_penalties</th>\n",
       "      <th>mentality_composure</th>\n",
       "      <th>defending_marking_awareness</th>\n",
       "      <th>defending_standing_tackle</th>\n",
       "      <th>defending_sliding_tackle</th>\n",
       "      <th>goalkeeping_diving</th>\n",
       "      <th>goalkeeping_handling</th>\n",
       "      <th>goalkeeping_kicking</th>\n",
       "      <th>goalkeeping_positioning</th>\n",
       "      <th>goalkeeping_reflexes</th>\n",
       "    </tr>\n",
       "  </thead>\n",
       "  <tbody>\n",
       "    <tr>\n",
       "      <th>95</th>\n",
       "      <td>85</td>\n",
       "      <td>88</td>\n",
       "      <td>69500000.0</td>\n",
       "      <td>100000.0</td>\n",
       "      <td>22</td>\n",
       "      <td>181</td>\n",
       "      <td>73</td>\n",
       "      <td>73.0</td>\n",
       "      <td>1.0</td>\n",
       "      <td>2.0</td>\n",
       "      <td>...</td>\n",
       "      <td>46</td>\n",
       "      <td>80</td>\n",
       "      <td>75</td>\n",
       "      <td>78</td>\n",
       "      <td>76</td>\n",
       "      <td>10</td>\n",
       "      <td>8</td>\n",
       "      <td>14</td>\n",
       "      <td>6</td>\n",
       "      <td>8</td>\n",
       "    </tr>\n",
       "    <tr>\n",
       "      <th>123</th>\n",
       "      <td>84</td>\n",
       "      <td>84</td>\n",
       "      <td>42500000.0</td>\n",
       "      <td>170000.0</td>\n",
       "      <td>28</td>\n",
       "      <td>181</td>\n",
       "      <td>65</td>\n",
       "      <td>5.0</td>\n",
       "      <td>1.0</td>\n",
       "      <td>22.0</td>\n",
       "      <td>...</td>\n",
       "      <td>67</td>\n",
       "      <td>79</td>\n",
       "      <td>44</td>\n",
       "      <td>56</td>\n",
       "      <td>40</td>\n",
       "      <td>11</td>\n",
       "      <td>7</td>\n",
       "      <td>11</td>\n",
       "      <td>8</td>\n",
       "      <td>14</td>\n",
       "    </tr>\n",
       "    <tr>\n",
       "      <th>238</th>\n",
       "      <td>82</td>\n",
       "      <td>82</td>\n",
       "      <td>20500000.0</td>\n",
       "      <td>29000.0</td>\n",
       "      <td>30</td>\n",
       "      <td>192</td>\n",
       "      <td>78</td>\n",
       "      <td>481.0</td>\n",
       "      <td>1.0</td>\n",
       "      <td>13.0</td>\n",
       "      <td>...</td>\n",
       "      <td>24</td>\n",
       "      <td>57</td>\n",
       "      <td>20</td>\n",
       "      <td>18</td>\n",
       "      <td>15</td>\n",
       "      <td>82</td>\n",
       "      <td>79</td>\n",
       "      <td>76</td>\n",
       "      <td>81</td>\n",
       "      <td>84</td>\n",
       "    </tr>\n",
       "    <tr>\n",
       "      <th>276</th>\n",
       "      <td>82</td>\n",
       "      <td>86</td>\n",
       "      <td>44000000.0</td>\n",
       "      <td>37000.0</td>\n",
       "      <td>24</td>\n",
       "      <td>188</td>\n",
       "      <td>78</td>\n",
       "      <td>481.0</td>\n",
       "      <td>1.0</td>\n",
       "      <td>15.0</td>\n",
       "      <td>...</td>\n",
       "      <td>67</td>\n",
       "      <td>74</td>\n",
       "      <td>27</td>\n",
       "      <td>31</td>\n",
       "      <td>27</td>\n",
       "      <td>13</td>\n",
       "      <td>9</td>\n",
       "      <td>14</td>\n",
       "      <td>9</td>\n",
       "      <td>13</td>\n",
       "    </tr>\n",
       "    <tr>\n",
       "      <th>399</th>\n",
       "      <td>80</td>\n",
       "      <td>80</td>\n",
       "      <td>7000000.0</td>\n",
       "      <td>19000.0</td>\n",
       "      <td>34</td>\n",
       "      <td>189</td>\n",
       "      <td>94</td>\n",
       "      <td>111117.0</td>\n",
       "      <td>1.0</td>\n",
       "      <td>5.0</td>\n",
       "      <td>...</td>\n",
       "      <td>41</td>\n",
       "      <td>82</td>\n",
       "      <td>84</td>\n",
       "      <td>81</td>\n",
       "      <td>79</td>\n",
       "      <td>7</td>\n",
       "      <td>4</td>\n",
       "      <td>8</td>\n",
       "      <td>7</td>\n",
       "      <td>11</td>\n",
       "    </tr>\n",
       "  </tbody>\n",
       "</table>\n",
       "<p>5 rows × 56 columns</p>\n",
       "</div>"
      ],
      "text/plain": [
       "     overall  potential   value_eur  wage_eur  age  height_cm  weight_kg  \\\n",
       "95        85         88  69500000.0  100000.0   22        181         73   \n",
       "123       84         84  42500000.0  170000.0   28        181         65   \n",
       "238       82         82  20500000.0   29000.0   30        192         78   \n",
       "276       82         86  44000000.0   37000.0   24        188         78   \n",
       "399       80         80   7000000.0   19000.0   34        189         94   \n",
       "\n",
       "     club_team_id  league_level  club_jersey_number  ...  mentality_penalties  \\\n",
       "95           73.0           1.0                 2.0  ...                   46   \n",
       "123           5.0           1.0                22.0  ...                   67   \n",
       "238         481.0           1.0                13.0  ...                   24   \n",
       "276         481.0           1.0                15.0  ...                   67   \n",
       "399      111117.0           1.0                 5.0  ...                   41   \n",
       "\n",
       "     mentality_composure  defending_marking_awareness  \\\n",
       "95                    80                           75   \n",
       "123                   79                           44   \n",
       "238                   57                           20   \n",
       "276                   74                           27   \n",
       "399                   82                           84   \n",
       "\n",
       "     defending_standing_tackle  defending_sliding_tackle  goalkeeping_diving  \\\n",
       "95                          78                        76                  10   \n",
       "123                         56                        40                  11   \n",
       "238                         18                        15                  82   \n",
       "276                         31                        27                  13   \n",
       "399                         81                        79                   7   \n",
       "\n",
       "     goalkeeping_handling  goalkeeping_kicking  goalkeeping_positioning  \\\n",
       "95                      8                   14                        6   \n",
       "123                     7                   11                        8   \n",
       "238                    79                   76                       81   \n",
       "276                     9                   14                        9   \n",
       "399                     4                    8                        7   \n",
       "\n",
       "     goalkeeping_reflexes  \n",
       "95                      8  \n",
       "123                    14  \n",
       "238                    84  \n",
       "276                    13  \n",
       "399                    11  \n",
       "\n",
       "[5 rows x 56 columns]"
      ]
     },
     "execution_count": 919,
     "metadata": {},
     "output_type": "execute_result"
    }
   ],
   "source": [
    "numeric_columns = df.select_dtypes(include=['number']).columns\n",
    "df_processed = df[numeric_columns]\n",
    "\n",
    "df_processed.head()"
   ]
  },
  {
   "cell_type": "markdown",
   "metadata": {},
   "source": [
    "### 2. Model Building"
   ]
  },
  {
   "cell_type": "markdown",
   "metadata": {},
   "source": [
    "#### 2.1. Manuel implementation of K-Means Algorithm"
   ]
  },
  {
   "cell_type": "markdown",
   "metadata": {},
   "source": [
    "**K-means is an unsupervised machine learning technique that allow us to cluster data points. This enables us to find patterns in the data that can help us analyze it more effectively.** K-means is an iterative algorithm, which means that it will converge to the optimal clustering over time.\n"
   ]
  },
  {
   "cell_type": "code",
   "execution_count": 920,
   "metadata": {},
   "outputs": [
    {
     "data": {
      "text/html": [
       "<div>\n",
       "<style scoped>\n",
       "    .dataframe tbody tr th:only-of-type {\n",
       "        vertical-align: middle;\n",
       "    }\n",
       "\n",
       "    .dataframe tbody tr th {\n",
       "        vertical-align: top;\n",
       "    }\n",
       "\n",
       "    .dataframe thead th {\n",
       "        text-align: right;\n",
       "    }\n",
       "</style>\n",
       "<table border=\"1\" class=\"dataframe\">\n",
       "  <thead>\n",
       "    <tr style=\"text-align: right;\">\n",
       "      <th></th>\n",
       "      <th>overall</th>\n",
       "      <th>potential</th>\n",
       "      <th>wage_eur</th>\n",
       "      <th>value_eur</th>\n",
       "      <th>age</th>\n",
       "    </tr>\n",
       "  </thead>\n",
       "  <tbody>\n",
       "    <tr>\n",
       "      <th>95</th>\n",
       "      <td>85</td>\n",
       "      <td>88</td>\n",
       "      <td>100000.0</td>\n",
       "      <td>69500000.0</td>\n",
       "      <td>22</td>\n",
       "    </tr>\n",
       "    <tr>\n",
       "      <th>123</th>\n",
       "      <td>84</td>\n",
       "      <td>84</td>\n",
       "      <td>170000.0</td>\n",
       "      <td>42500000.0</td>\n",
       "      <td>28</td>\n",
       "    </tr>\n",
       "    <tr>\n",
       "      <th>238</th>\n",
       "      <td>82</td>\n",
       "      <td>82</td>\n",
       "      <td>29000.0</td>\n",
       "      <td>20500000.0</td>\n",
       "      <td>30</td>\n",
       "    </tr>\n",
       "    <tr>\n",
       "      <th>276</th>\n",
       "      <td>82</td>\n",
       "      <td>86</td>\n",
       "      <td>37000.0</td>\n",
       "      <td>44000000.0</td>\n",
       "      <td>24</td>\n",
       "    </tr>\n",
       "    <tr>\n",
       "      <th>399</th>\n",
       "      <td>80</td>\n",
       "      <td>80</td>\n",
       "      <td>19000.0</td>\n",
       "      <td>7000000.0</td>\n",
       "      <td>34</td>\n",
       "    </tr>\n",
       "  </tbody>\n",
       "</table>\n",
       "</div>"
      ],
      "text/plain": [
       "     overall  potential  wage_eur   value_eur  age\n",
       "95        85         88  100000.0  69500000.0   22\n",
       "123       84         84  170000.0  42500000.0   28\n",
       "238       82         82   29000.0  20500000.0   30\n",
       "276       82         86   37000.0  44000000.0   24\n",
       "399       80         80   19000.0   7000000.0   34"
      ]
     },
     "execution_count": 920,
     "metadata": {},
     "output_type": "execute_result"
    }
   ],
   "source": [
    "features = [\"overall\", \"potential\", \"wage_eur\", \"value_eur\", \"age\"]\n",
    "\n",
    "df_man = df[features]\n",
    "\n",
    "df_man.head()"
   ]
  },
  {
   "cell_type": "markdown",
   "metadata": {},
   "source": [
    "#### Pseudocode\n",
    "\n",
    "1. Scale data to standardize values\n",
    "2. Initialize random centroids\n",
    "3. Get labels for each data point\n",
    "4. Create new centroids\n",
    "5. Plot the centroids\n",
    "6. Repeat 3-5 until the centroids stop changing"
   ]
  },
  {
   "cell_type": "code",
   "execution_count": 921,
   "metadata": {},
   "outputs": [],
   "source": [
    "def random_centroids(data, k):\n",
    "    centroids = []\n",
    "    for i in range(k):\n",
    "        centroid = data.apply(lambda x: float(x.sample()))\n",
    "        centroids.append(centroid)\n",
    "    return pd.concat(centroids, axis=1)"
   ]
  },
  {
   "cell_type": "code",
   "execution_count": 922,
   "metadata": {},
   "outputs": [
    {
     "data": {
      "text/html": [
       "<div>\n",
       "<style scoped>\n",
       "    .dataframe tbody tr th:only-of-type {\n",
       "        vertical-align: middle;\n",
       "    }\n",
       "\n",
       "    .dataframe tbody tr th {\n",
       "        vertical-align: top;\n",
       "    }\n",
       "\n",
       "    .dataframe thead th {\n",
       "        text-align: right;\n",
       "    }\n",
       "</style>\n",
       "<table border=\"1\" class=\"dataframe\">\n",
       "  <thead>\n",
       "    <tr style=\"text-align: right;\">\n",
       "      <th></th>\n",
       "      <th>0</th>\n",
       "      <th>1</th>\n",
       "      <th>2</th>\n",
       "      <th>3</th>\n",
       "      <th>4</th>\n",
       "    </tr>\n",
       "  </thead>\n",
       "  <tbody>\n",
       "    <tr>\n",
       "      <th>overall</th>\n",
       "      <td>76.0</td>\n",
       "      <td>76.0</td>\n",
       "      <td>73.0</td>\n",
       "      <td>77.0</td>\n",
       "      <td>73.0</td>\n",
       "    </tr>\n",
       "    <tr>\n",
       "      <th>potential</th>\n",
       "      <td>80.0</td>\n",
       "      <td>74.0</td>\n",
       "      <td>73.0</td>\n",
       "      <td>76.0</td>\n",
       "      <td>86.0</td>\n",
       "    </tr>\n",
       "    <tr>\n",
       "      <th>wage_eur</th>\n",
       "      <td>42000.0</td>\n",
       "      <td>800.0</td>\n",
       "      <td>100000.0</td>\n",
       "      <td>12000.0</td>\n",
       "      <td>18000.0</td>\n",
       "    </tr>\n",
       "    <tr>\n",
       "      <th>value_eur</th>\n",
       "      <td>1900000.0</td>\n",
       "      <td>1500000.0</td>\n",
       "      <td>14500000.0</td>\n",
       "      <td>5500000.0</td>\n",
       "      <td>4800000.0</td>\n",
       "    </tr>\n",
       "    <tr>\n",
       "      <th>age</th>\n",
       "      <td>30.0</td>\n",
       "      <td>22.0</td>\n",
       "      <td>27.0</td>\n",
       "      <td>32.0</td>\n",
       "      <td>25.0</td>\n",
       "    </tr>\n",
       "  </tbody>\n",
       "</table>\n",
       "</div>"
      ],
      "text/plain": [
       "                   0          1           2          3          4\n",
       "overall         76.0       76.0        73.0       77.0       73.0\n",
       "potential       80.0       74.0        73.0       76.0       86.0\n",
       "wage_eur     42000.0      800.0    100000.0    12000.0    18000.0\n",
       "value_eur  1900000.0  1500000.0  14500000.0  5500000.0  4800000.0\n",
       "age             30.0       22.0        27.0       32.0       25.0"
      ]
     },
     "execution_count": 922,
     "metadata": {},
     "output_type": "execute_result"
    }
   ],
   "source": [
    "centroids = random_centroids(df_man, 5)\n",
    "centroids"
   ]
  },
  {
   "cell_type": "code",
   "execution_count": 923,
   "metadata": {},
   "outputs": [],
   "source": [
    "def get_labels(data, centroids):\n",
    "    distances = centroids.apply(lambda x: np.sqrt(((data - x) ** 2).sum(axis=1)))\n",
    "    return distances.idxmin(axis=1)"
   ]
  },
  {
   "cell_type": "code",
   "execution_count": 924,
   "metadata": {},
   "outputs": [],
   "source": [
    "labels = get_labels(df_man, centroids)"
   ]
  },
  {
   "cell_type": "code",
   "execution_count": 925,
   "metadata": {},
   "outputs": [
    {
     "data": {
      "text/plain": [
       "3    12\n",
       "0    11\n",
       "2     8\n",
       "4     8\n",
       "1     4\n",
       "dtype: int64"
      ]
     },
     "execution_count": 925,
     "metadata": {},
     "output_type": "execute_result"
    }
   ],
   "source": [
    "labels.value_counts()"
   ]
  },
  {
   "cell_type": "code",
   "execution_count": 926,
   "metadata": {},
   "outputs": [],
   "source": [
    "def new_centroids(data, labels, k):\n",
    "    centroids = data.groupby(labels).apply(lambda x: np.exp(np.log(x).mean())).T\n",
    "    return centroids"
   ]
  },
  {
   "cell_type": "code",
   "execution_count": 927,
   "metadata": {},
   "outputs": [],
   "source": [
    "from IPython.display import clear_output\n",
    "\n",
    "def plot_clusters(data, labels, centroids, iteration):\n",
    "    pca = PCA(n_components=2)\n",
    "    data_2d = pca.fit_transform(data)\n",
    "    centroids_2d = pca.transform(centroids.T)\n",
    "    clear_output(wait=True)\n",
    "    plt.title(f'Iteration {iteration}')\n",
    "    plt.scatter(x=data_2d[:,0], y=data_2d[:,1], c=labels)\n",
    "    plt.scatter(x=centroids_2d[:,0], y=centroids_2d[:,1])\n",
    "    plt.show()"
   ]
  },
  {
   "cell_type": "code",
   "execution_count": 928,
   "metadata": {},
   "outputs": [
    {
     "data": {
      "image/png": "[encoded data removed]",
      "text/plain": [
       "<Figure size 1500x1000 with 1 Axes>"
      ]
     },
     "metadata": {},
     "output_type": "display_data"
    }
   ],
   "source": [
    "max_iterations = 50\n",
    "centroid_count = 3\n",
    "\n",
    "centroids = random_centroids(df_man, centroid_count)\n",
    "old_centroids = pd.DataFrame()\n",
    "iteration = 1\n",
    "\n",
    "while iteration < max_iterations and not centroids.equals(old_centroids):\n",
    "    old_centroids = centroids\n",
    "    \n",
    "    labels = get_labels(df_man, centroids)\n",
    "    centroids = new_centroids(df_man, labels, centroid_count)\n",
    "    plot_clusters(df_man, labels, centroids, iteration)\n",
    "    iteration += 1"
   ]
  },
  {
   "cell_type": "code",
   "execution_count": 929,
   "metadata": {},
   "outputs": [
    {
     "data": {
      "text/html": [
       "<div>\n",
       "<style scoped>\n",
       "    .dataframe tbody tr th:only-of-type {\n",
       "        vertical-align: middle;\n",
       "    }\n",
       "\n",
       "    .dataframe tbody tr th {\n",
       "        vertical-align: top;\n",
       "    }\n",
       "\n",
       "    .dataframe thead th {\n",
       "        text-align: right;\n",
       "    }\n",
       "</style>\n",
       "<table border=\"1\" class=\"dataframe\">\n",
       "  <thead>\n",
       "    <tr style=\"text-align: right;\">\n",
       "      <th></th>\n",
       "      <th>0</th>\n",
       "      <th>1</th>\n",
       "      <th>2</th>\n",
       "    </tr>\n",
       "  </thead>\n",
       "  <tbody>\n",
       "    <tr>\n",
       "      <th>overall</th>\n",
       "      <td>8.272762e+01</td>\n",
       "      <td>7.282334e+01</td>\n",
       "      <td>7.754433e+01</td>\n",
       "    </tr>\n",
       "    <tr>\n",
       "      <th>potential</th>\n",
       "      <td>8.573731e+01</td>\n",
       "      <td>7.468393e+01</td>\n",
       "      <td>7.912666e+01</td>\n",
       "    </tr>\n",
       "    <tr>\n",
       "      <th>wage_eur</th>\n",
       "      <td>5.718405e+04</td>\n",
       "      <td>9.781769e+03</td>\n",
       "      <td>2.026673e+04</td>\n",
       "    </tr>\n",
       "    <tr>\n",
       "      <th>value_eur</th>\n",
       "      <td>4.424988e+07</td>\n",
       "      <td>2.925955e+06</td>\n",
       "      <td>1.031069e+07</td>\n",
       "    </tr>\n",
       "    <tr>\n",
       "      <th>age</th>\n",
       "      <td>2.414793e+01</td>\n",
       "      <td>2.775817e+01</td>\n",
       "      <td>2.821005e+01</td>\n",
       "    </tr>\n",
       "  </tbody>\n",
       "</table>\n",
       "</div>"
      ],
      "text/plain": [
       "                      0             1             2\n",
       "overall    8.272762e+01  7.282334e+01  7.754433e+01\n",
       "potential  8.573731e+01  7.468393e+01  7.912666e+01\n",
       "wage_eur   5.718405e+04  9.781769e+03  2.026673e+04\n",
       "value_eur  4.424988e+07  2.925955e+06  1.031069e+07\n",
       "age        2.414793e+01  2.775817e+01  2.821005e+01"
      ]
     },
     "execution_count": 929,
     "metadata": {},
     "output_type": "execute_result"
    }
   ],
   "source": [
    "centroids"
   ]
  },
  {
   "cell_type": "markdown",
   "metadata": {},
   "source": [
    "We can see with our manual implementation that we got 3 clusters."
   ]
  },
  {
   "cell_type": "markdown",
   "metadata": {},
   "source": [
    "#### 3.2. Implementation using KMeans of Scikit-learn"
   ]
  },
  {
   "cell_type": "markdown",
   "metadata": {},
   "source": [
    "#### Normalizing the data"
   ]
  },
  {
   "cell_type": "code",
   "execution_count": 930,
   "metadata": {},
   "outputs": [],
   "source": [
    "x = df_processed.values \n",
    "scaler = preprocessing.MinMaxScaler()\n",
    "x_scaled = scaler.fit_transform(x)\n",
    "X_norm = pd.DataFrame(x_scaled)"
   ]
  },
  {
   "cell_type": "markdown",
   "metadata": {},
   "source": [
    "#### Using PCA to reduce the columns into 2"
   ]
  },
  {
   "cell_type": "markdown",
   "metadata": {},
   "source": [
    "For better visualization after, we are gonna stick with 2 columns."
   ]
  },
  {
   "cell_type": "code",
   "execution_count": 931,
   "metadata": {},
   "outputs": [],
   "source": [
    "pca = PCA(n_components = 2) # 2D PCA for the plot\n",
    "reduced = pd.DataFrame(pca.fit_transform(X_norm))"
   ]
  },
  {
   "cell_type": "markdown",
   "metadata": {},
   "source": [
    "We're gonna use the KMeans algorithm from the scikit-learn with 5 as clusters. 5 refer to the different player positions (goalkeeper, defender, defensive midfielder, offensive midfielder and striker)"
   ]
  },
  {
   "cell_type": "code",
   "execution_count": 932,
   "metadata": {},
   "outputs": [
    {
     "name": "stderr",
     "output_type": "stream",
     "text": [
      "c:\\Python310\\lib\\site-packages\\sklearn\\cluster\\_kmeans.py:870: FutureWarning:\n",
      "\n",
      "The default value of `n_init` will change from 10 to 'auto' in 1.4. Set the value of `n_init` explicitly to suppress the warning\n",
      "\n"
     ]
    }
   ],
   "source": [
    "kmeans = KMeans(n_clusters=5)\n",
    "\n",
    "# Fit the input data to the model\n",
    "kmeans = kmeans.fit(reduced)\n",
    "\n",
    "# Get the cluster labels\n",
    "labels = kmeans.predict(reduced)\n",
    "\n",
    "# Centroid values\n",
    "centroid = kmeans.cluster_centers_\n",
    "\n",
    "# Cluster values\n",
    "clusters = kmeans.labels_.tolist()"
   ]
  },
  {
   "cell_type": "code",
   "execution_count": 933,
   "metadata": {},
   "outputs": [
    {
     "data": {
      "text/html": [
       "<div>\n",
       "<style scoped>\n",
       "    .dataframe tbody tr th:only-of-type {\n",
       "        vertical-align: middle;\n",
       "    }\n",
       "\n",
       "    .dataframe tbody tr th {\n",
       "        vertical-align: top;\n",
       "    }\n",
       "\n",
       "    .dataframe thead th {\n",
       "        text-align: right;\n",
       "    }\n",
       "</style>\n",
       "<table border=\"1\" class=\"dataframe\">\n",
       "  <thead>\n",
       "    <tr style=\"text-align: right;\">\n",
       "      <th></th>\n",
       "      <th>x</th>\n",
       "      <th>y</th>\n",
       "      <th>cluster</th>\n",
       "      <th>name</th>\n",
       "    </tr>\n",
       "  </thead>\n",
       "  <tbody>\n",
       "    <tr>\n",
       "      <th>0</th>\n",
       "      <td>-0.416940</td>\n",
       "      <td>-1.402227</td>\n",
       "      <td>0</td>\n",
       "      <td>A. Hakimi</td>\n",
       "    </tr>\n",
       "    <tr>\n",
       "      <th>1</th>\n",
       "      <td>-1.347289</td>\n",
       "      <td>-0.674665</td>\n",
       "      <td>2</td>\n",
       "      <td>H. Ziyech</td>\n",
       "    </tr>\n",
       "    <tr>\n",
       "      <th>2</th>\n",
       "      <td>1.833563</td>\n",
       "      <td>2.825214</td>\n",
       "      <td>3</td>\n",
       "      <td>Y. Bounou</td>\n",
       "    </tr>\n",
       "    <tr>\n",
       "      <th>3</th>\n",
       "      <td>-0.530509</td>\n",
       "      <td>-0.050283</td>\n",
       "      <td>2</td>\n",
       "      <td>Y. En-Nesyri</td>\n",
       "    </tr>\n",
       "    <tr>\n",
       "      <th>4</th>\n",
       "      <td>1.767683</td>\n",
       "      <td>-0.727340</td>\n",
       "      <td>1</td>\n",
       "      <td>M. Benatia</td>\n",
       "    </tr>\n",
       "    <tr>\n",
       "      <th>5</th>\n",
       "      <td>1.614146</td>\n",
       "      <td>-0.695639</td>\n",
       "      <td>1</td>\n",
       "      <td>Z. Feddal</td>\n",
       "    </tr>\n",
       "    <tr>\n",
       "      <th>6</th>\n",
       "      <td>0.089846</td>\n",
       "      <td>-0.904948</td>\n",
       "      <td>0</td>\n",
       "      <td>N. Mazraoui</td>\n",
       "    </tr>\n",
       "    <tr>\n",
       "      <th>7</th>\n",
       "      <td>-0.792849</td>\n",
       "      <td>0.075327</td>\n",
       "      <td>2</td>\n",
       "      <td>Y. El Arabi</td>\n",
       "    </tr>\n",
       "    <tr>\n",
       "      <th>8</th>\n",
       "      <td>-1.233885</td>\n",
       "      <td>0.076687</td>\n",
       "      <td>4</td>\n",
       "      <td>Munir</td>\n",
       "    </tr>\n",
       "    <tr>\n",
       "      <th>9</th>\n",
       "      <td>0.961730</td>\n",
       "      <td>-0.845448</td>\n",
       "      <td>1</td>\n",
       "      <td>R. Saïss</td>\n",
       "    </tr>\n",
       "  </tbody>\n",
       "</table>\n",
       "</div>"
      ],
      "text/plain": [
       "          x         y  cluster          name\n",
       "0 -0.416940 -1.402227        0     A. Hakimi\n",
       "1 -1.347289 -0.674665        2     H. Ziyech\n",
       "2  1.833563  2.825214        3     Y. Bounou\n",
       "3 -0.530509 -0.050283        2  Y. En-Nesyri\n",
       "4  1.767683 -0.727340        1    M. Benatia\n",
       "5  1.614146 -0.695639        1     Z. Feddal\n",
       "6  0.089846 -0.904948        0   N. Mazraoui\n",
       "7 -0.792849  0.075327        2   Y. El Arabi\n",
       "8 -1.233885  0.076687        4         Munir\n",
       "9  0.961730 -0.845448        1      R. Saïss"
      ]
     },
     "execution_count": 933,
     "metadata": {},
     "output_type": "execute_result"
    }
   ],
   "source": [
    "reduced['cluster'] = clusters\n",
    "reduced['name'] = names\n",
    "reduced.columns = ['x', 'y', 'cluster', 'name']\n",
    "reduced.head(10)"
   ]
  },
  {
   "cell_type": "code",
   "execution_count": 934,
   "metadata": {},
   "outputs": [
    {
     "data": {
      "text/plain": [
       "array([0, 2, 3, 1, 4], dtype=int64)"
      ]
     },
     "execution_count": 934,
     "metadata": {},
     "output_type": "execute_result"
    }
   ],
   "source": [
    "reduced['cluster'].unique()"
   ]
  },
  {
   "cell_type": "markdown",
   "metadata": {},
   "source": [
    "We have now grouped our player into five clusters. If you are familiar with these players and their positions, you can see that they're correctly grouped.\n",
    "\n",
    "For example:\n",
    "\n",
    "- Noussair Mazraoui and Achraf Hakimi are two Right Back (RB) are in the same cluster. \n",
    "- Fedal and Benatia are both Central Back (CB) they are in the same cluster. \n",
    "- H. Ziyech and Y. En-Nesyri both Strikers (ST) are in the same cluster."
   ]
  },
  {
   "cell_type": "code",
   "execution_count": 935,
   "metadata": {},
   "outputs": [
    {
     "data": {
      "image/png": "[encoded data removed]",
      "text/plain": [
       "<Figure size 1000x1000 with 1 Axes>"
      ]
     },
     "metadata": {},
     "output_type": "display_data"
    }
   ],
   "source": [
    "sns.set(style=\"white\")\n",
    "\n",
    "ax = sns.lmplot(x=\"x\", y=\"y\", hue='cluster', data = reduced, legend=False,\n",
    "                   fit_reg=False, height = 10, scatter_kws={\"s\": 250})\n",
    "\n",
    "texts = []\n",
    "for x, y, s in zip(reduced.x, reduced.y, reduced.name):\n",
    "    texts.append(plt.text(x, y, s))\n",
    "\n",
    "ax.set(ylim=(-2, 2))\n",
    "plt.tick_params(labelsize=15)\n",
    "plt.xlabel(\"PC 1\", fontsize = 20)\n",
    "plt.ylabel(\"PC 2\", fontsize = 20)\n",
    "\n",
    "plt.show()"
   ]
  },
  {
   "cell_type": "markdown",
   "metadata": {},
   "source": [
    "In this plot, we can see:\n",
    "\n",
    "🥅 In the top right, Y. Bounou and Munir Mhammedi the two goalkeepers of the national team. \n",
    "\n",
    "🟧 In orange we have our strikers like H. Ziyech, Y. En-Nesyri and S. Boufal.\n",
    "\n",
    "🟩 In green offensive midfielders like A. Taarabt and S. Amallah and also offensive left and right backs like A. Hakimi and N. Mazraoui.\n",
    "\n",
    "🟪 In purple we have the defensive midfielders like K. El Ahmadi.\n",
    "\n",
    "🟦 And in the blue we have the central backs like M. Benatia and N. Aguerd"
   ]
  },
  {
   "cell_type": "code",
   "execution_count": 936,
   "metadata": {},
   "outputs": [
    {
     "data": {
      "text/html": [
       "<div>\n",
       "<style scoped>\n",
       "    .dataframe tbody tr th:only-of-type {\n",
       "        vertical-align: middle;\n",
       "    }\n",
       "\n",
       "    .dataframe tbody tr th {\n",
       "        vertical-align: top;\n",
       "    }\n",
       "\n",
       "    .dataframe thead th {\n",
       "        text-align: right;\n",
       "    }\n",
       "</style>\n",
       "<table border=\"1\" class=\"dataframe\">\n",
       "  <thead>\n",
       "    <tr style=\"text-align: right;\">\n",
       "      <th></th>\n",
       "      <th>player_positions</th>\n",
       "      <th>overall</th>\n",
       "      <th>potential</th>\n",
       "      <th>value_eur</th>\n",
       "      <th>wage_eur</th>\n",
       "      <th>age</th>\n",
       "      <th>dob</th>\n",
       "      <th>height_cm</th>\n",
       "      <th>weight_kg</th>\n",
       "      <th>club_team_id</th>\n",
       "      <th>...</th>\n",
       "      <th>cdm</th>\n",
       "      <th>rdm</th>\n",
       "      <th>rwb</th>\n",
       "      <th>lb</th>\n",
       "      <th>lcb</th>\n",
       "      <th>cb</th>\n",
       "      <th>rcb</th>\n",
       "      <th>rb</th>\n",
       "      <th>gk</th>\n",
       "      <th>name</th>\n",
       "    </tr>\n",
       "  </thead>\n",
       "  <tbody>\n",
       "    <tr>\n",
       "      <th>95</th>\n",
       "      <td>RB, RWB</td>\n",
       "      <td>85</td>\n",
       "      <td>88</td>\n",
       "      <td>69500000.0</td>\n",
       "      <td>100000.0</td>\n",
       "      <td>22</td>\n",
       "      <td>1998-11-04</td>\n",
       "      <td>181</td>\n",
       "      <td>73</td>\n",
       "      <td>73.0</td>\n",
       "      <td>...</td>\n",
       "      <td>79+2</td>\n",
       "      <td>79+2</td>\n",
       "      <td>83+2</td>\n",
       "      <td>82+2</td>\n",
       "      <td>77+2</td>\n",
       "      <td>77+2</td>\n",
       "      <td>77+2</td>\n",
       "      <td>82+2</td>\n",
       "      <td>17+2</td>\n",
       "      <td>A. Hakimi</td>\n",
       "    </tr>\n",
       "    <tr>\n",
       "      <th>123</th>\n",
       "      <td>RW, CAM</td>\n",
       "      <td>84</td>\n",
       "      <td>84</td>\n",
       "      <td>42500000.0</td>\n",
       "      <td>170000.0</td>\n",
       "      <td>28</td>\n",
       "      <td>1993-03-19</td>\n",
       "      <td>181</td>\n",
       "      <td>65</td>\n",
       "      <td>5.0</td>\n",
       "      <td>...</td>\n",
       "      <td>70+3</td>\n",
       "      <td>70+3</td>\n",
       "      <td>70+3</td>\n",
       "      <td>66+3</td>\n",
       "      <td>57+3</td>\n",
       "      <td>57+3</td>\n",
       "      <td>57+3</td>\n",
       "      <td>66+3</td>\n",
       "      <td>18+3</td>\n",
       "      <td>H. Ziyech</td>\n",
       "    </tr>\n",
       "    <tr>\n",
       "      <th>238</th>\n",
       "      <td>GK</td>\n",
       "      <td>82</td>\n",
       "      <td>82</td>\n",
       "      <td>20500000.0</td>\n",
       "      <td>29000.0</td>\n",
       "      <td>30</td>\n",
       "      <td>1991-04-05</td>\n",
       "      <td>192</td>\n",
       "      <td>78</td>\n",
       "      <td>481.0</td>\n",
       "      <td>...</td>\n",
       "      <td>32+2</td>\n",
       "      <td>32+2</td>\n",
       "      <td>28+2</td>\n",
       "      <td>27+2</td>\n",
       "      <td>28+2</td>\n",
       "      <td>28+2</td>\n",
       "      <td>28+2</td>\n",
       "      <td>27+2</td>\n",
       "      <td>81+1</td>\n",
       "      <td>Y. Bounou</td>\n",
       "    </tr>\n",
       "    <tr>\n",
       "      <th>276</th>\n",
       "      <td>ST, LW</td>\n",
       "      <td>82</td>\n",
       "      <td>86</td>\n",
       "      <td>44000000.0</td>\n",
       "      <td>37000.0</td>\n",
       "      <td>24</td>\n",
       "      <td>1997-06-01</td>\n",
       "      <td>188</td>\n",
       "      <td>78</td>\n",
       "      <td>481.0</td>\n",
       "      <td>...</td>\n",
       "      <td>54+2</td>\n",
       "      <td>54+2</td>\n",
       "      <td>55+2</td>\n",
       "      <td>53+2</td>\n",
       "      <td>52+2</td>\n",
       "      <td>52+2</td>\n",
       "      <td>52+2</td>\n",
       "      <td>53+2</td>\n",
       "      <td>19+2</td>\n",
       "      <td>Y. En-Nesyri</td>\n",
       "    </tr>\n",
       "    <tr>\n",
       "      <th>399</th>\n",
       "      <td>CB</td>\n",
       "      <td>80</td>\n",
       "      <td>80</td>\n",
       "      <td>7000000.0</td>\n",
       "      <td>19000.0</td>\n",
       "      <td>34</td>\n",
       "      <td>1987-04-17</td>\n",
       "      <td>189</td>\n",
       "      <td>94</td>\n",
       "      <td>111117.0</td>\n",
       "      <td>...</td>\n",
       "      <td>73+3</td>\n",
       "      <td>73+3</td>\n",
       "      <td>69+3</td>\n",
       "      <td>71+3</td>\n",
       "      <td>79+1</td>\n",
       "      <td>79+1</td>\n",
       "      <td>79+1</td>\n",
       "      <td>71+3</td>\n",
       "      <td>15+3</td>\n",
       "      <td>M. Benatia</td>\n",
       "    </tr>\n",
       "  </tbody>\n",
       "</table>\n",
       "<p>5 rows × 95 columns</p>\n",
       "</div>"
      ],
      "text/plain": [
       "    player_positions  overall  potential   value_eur  wage_eur  age  \\\n",
       "95           RB, RWB       85         88  69500000.0  100000.0   22   \n",
       "123          RW, CAM       84         84  42500000.0  170000.0   28   \n",
       "238               GK       82         82  20500000.0   29000.0   30   \n",
       "276           ST, LW       82         86  44000000.0   37000.0   24   \n",
       "399               CB       80         80   7000000.0   19000.0   34   \n",
       "\n",
       "            dob  height_cm  weight_kg  club_team_id  ...   cdm   rdm   rwb  \\\n",
       "95   1998-11-04        181         73          73.0  ...  79+2  79+2  83+2   \n",
       "123  1993-03-19        181         65           5.0  ...  70+3  70+3  70+3   \n",
       "238  1991-04-05        192         78         481.0  ...  32+2  32+2  28+2   \n",
       "276  1997-06-01        188         78         481.0  ...  54+2  54+2  55+2   \n",
       "399  1987-04-17        189         94      111117.0  ...  73+3  73+3  69+3   \n",
       "\n",
       "       lb   lcb    cb   rcb    rb    gk          name  \n",
       "95   82+2  77+2  77+2  77+2  82+2  17+2     A. Hakimi  \n",
       "123  66+3  57+3  57+3  57+3  66+3  18+3     H. Ziyech  \n",
       "238  27+2  28+2  28+2  28+2  27+2  81+1     Y. Bounou  \n",
       "276  53+2  52+2  52+2  52+2  53+2  19+2  Y. En-Nesyri  \n",
       "399  71+3  79+1  79+1  79+1  71+3  15+3    M. Benatia  \n",
       "\n",
       "[5 rows x 95 columns]"
      ]
     },
     "execution_count": 936,
     "metadata": {},
     "output_type": "execute_result"
    }
   ],
   "source": [
    "df['name'] = names\n",
    "df.head()"
   ]
  },
  {
   "cell_type": "code",
   "execution_count": 937,
   "metadata": {},
   "outputs": [
    {
     "data": {
      "text/html": [
       "<div>\n",
       "<style scoped>\n",
       "    .dataframe tbody tr th:only-of-type {\n",
       "        vertical-align: middle;\n",
       "    }\n",
       "\n",
       "    .dataframe tbody tr th {\n",
       "        vertical-align: top;\n",
       "    }\n",
       "\n",
       "    .dataframe thead th {\n",
       "        text-align: right;\n",
       "    }\n",
       "</style>\n",
       "<table border=\"1\" class=\"dataframe\">\n",
       "  <thead>\n",
       "    <tr style=\"text-align: right;\">\n",
       "      <th></th>\n",
       "      <th>name</th>\n",
       "      <th>player_positions</th>\n",
       "      <th>cluster</th>\n",
       "    </tr>\n",
       "  </thead>\n",
       "  <tbody>\n",
       "    <tr>\n",
       "      <th>0</th>\n",
       "      <td>A. Hakimi</td>\n",
       "      <td>RB, RWB</td>\n",
       "      <td>0</td>\n",
       "    </tr>\n",
       "    <tr>\n",
       "      <th>1</th>\n",
       "      <td>H. Ziyech</td>\n",
       "      <td>RW, CAM</td>\n",
       "      <td>2</td>\n",
       "    </tr>\n",
       "    <tr>\n",
       "      <th>2</th>\n",
       "      <td>Y. Bounou</td>\n",
       "      <td>GK</td>\n",
       "      <td>3</td>\n",
       "    </tr>\n",
       "    <tr>\n",
       "      <th>3</th>\n",
       "      <td>Y. En-Nesyri</td>\n",
       "      <td>ST, LW</td>\n",
       "      <td>2</td>\n",
       "    </tr>\n",
       "    <tr>\n",
       "      <th>4</th>\n",
       "      <td>M. Benatia</td>\n",
       "      <td>CB</td>\n",
       "      <td>1</td>\n",
       "    </tr>\n",
       "    <tr>\n",
       "      <th>5</th>\n",
       "      <td>Z. Feddal</td>\n",
       "      <td>CB</td>\n",
       "      <td>1</td>\n",
       "    </tr>\n",
       "    <tr>\n",
       "      <th>6</th>\n",
       "      <td>N. Mazraoui</td>\n",
       "      <td>RB</td>\n",
       "      <td>0</td>\n",
       "    </tr>\n",
       "    <tr>\n",
       "      <th>7</th>\n",
       "      <td>Y. El Arabi</td>\n",
       "      <td>ST</td>\n",
       "      <td>2</td>\n",
       "    </tr>\n",
       "  </tbody>\n",
       "</table>\n",
       "</div>"
      ],
      "text/plain": [
       "           name player_positions  cluster\n",
       "0     A. Hakimi          RB, RWB        0\n",
       "1     H. Ziyech          RW, CAM        2\n",
       "2     Y. Bounou               GK        3\n",
       "3  Y. En-Nesyri           ST, LW        2\n",
       "4    M. Benatia               CB        1\n",
       "5     Z. Feddal               CB        1\n",
       "6   N. Mazraoui               RB        0\n",
       "7   Y. El Arabi               ST        2"
      ]
     },
     "execution_count": 937,
     "metadata": {},
     "output_type": "execute_result"
    }
   ],
   "source": [
    "df_decision = pd.merge(df, reduced, on=\"name\")\n",
    "df_decision = df_decision[['name', 'player_positions', 'cluster']]\n",
    "\n",
    "df_decision.head(8)"
   ]
  },
  {
   "cell_type": "markdown",
   "metadata": {},
   "source": [
    "We can see that players with similar player position have the same cluster number."
   ]
  }
 ],
 "metadata": {
  "kernelspec": {
   "display_name": "Python 3",
   "language": "python",
   "name": "python3"
  },
  "language_info": {
   "codemirror_mode": {
    "name": "ipython",
    "version": 3
   },
   "file_extension": ".py",
   "mimetype": "text/x-python",
   "name": "python",
   "nbconvert_exporter": "python",
   "pygments_lexer": "ipython3",
   "version": "3.10.5"
  },
  "orig_nbformat": 4
 },
 "nbformat": 4,
 "nbformat_minor": 2
}
